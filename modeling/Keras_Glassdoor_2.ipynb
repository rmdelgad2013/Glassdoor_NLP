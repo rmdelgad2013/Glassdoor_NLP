{
  "nbformat": 4,
  "nbformat_minor": 0,
  "metadata": {
    "colab": {
      "name": "Keras_Glassdoor_2.ipynb",
      "version": "0.3.2",
      "provenance": [],
      "collapsed_sections": []
    },
    "kernelspec": {
      "name": "python3",
      "display_name": "Python 3"
    },
    "accelerator": "GPU"
  },
  "cells": [
    {
      "metadata": {
        "id": "x-khZGKFgfDF",
        "colab_type": "code",
        "colab": {}
      },
      "cell_type": "code",
      "source": [
        "# Install PyDrive in the notebook since I'm running in Google Colab\n",
        "\n",
        "!pip install -U -q PyDrive"
      ],
      "execution_count": 0,
      "outputs": []
    },
    {
      "metadata": {
        "id": "OK2i3Ppngi_J",
        "colab_type": "code",
        "colab": {
          "base_uri": "https://localhost:8080/",
          "height": 34
        },
        "outputId": "efbe421f-dea4-492a-d5c1-db643719033f"
      },
      "cell_type": "code",
      "source": [
        "from io import StringIO\n",
        "from datetime import datetime\n",
        "\n",
        "from pydrive.auth import GoogleAuth\n",
        "from pydrive.drive import GoogleDrive\n",
        "from google.colab import auth\n",
        "from oauth2client.client import GoogleCredentials\n",
        "\n",
        "import pandas as pd\n",
        "import numpy as np\n",
        "\n",
        "from keras.preprocessing.text import Tokenizer\n",
        "from keras.preprocessing.sequence import pad_sequences\n",
        "from keras.layers import (Dense, Input, Conv1D, MaxPooling1D, Embedding,\n",
        "                          GlobalMaxPooling1D, Flatten, Dropout)\n",
        "from keras.models import Sequential, Model\n",
        "from keras.initializers import Constant\n",
        "from keras.layers.merge import concatenate\n",
        "\n",
        "from sklearn.model_selection import train_test_split\n",
        "from sklearn.metrics import accuracy_score"
      ],
      "execution_count": 2,
      "outputs": [
        {
          "output_type": "stream",
          "text": [
            "Using TensorFlow backend.\n"
          ],
          "name": "stderr"
        }
      ]
    },
    {
      "metadata": {
        "id": "0fYYEwWZgqSP",
        "colab_type": "code",
        "colab": {}
      },
      "cell_type": "code",
      "source": [
        "# Authenticate\n",
        "auth.authenticate_user()\n",
        "gauth = GoogleAuth()\n",
        "gauth.credentials = GoogleCredentials.get_application_default()\n",
        "drive = GoogleDrive(gauth)"
      ],
      "execution_count": 0,
      "outputs": []
    },
    {
      "metadata": {
        "id": "dO13jT-RhJfF",
        "colab_type": "code",
        "colab": {}
      },
      "cell_type": "code",
      "source": [
        "# Model hyperparameters\n",
        "EMBEDDING_DIM = 300\n",
        "VOCAB_SIZE = 10000\n",
        "NUM_FILTERS = 100\n",
        "FILTER_SIZES = [3,4,5]\n",
        "BATCH_SIZE = 64\n",
        "NUM_EPOCHS = 5"
      ],
      "execution_count": 0,
      "outputs": []
    },
    {
      "metadata": {
        "id": "18GHKfe2gx9E",
        "colab_type": "code",
        "colab": {}
      },
      "cell_type": "code",
      "source": [
        "\n",
        "# List the files under my 'Colab Notebooks' directory in Google Drive\n",
        "colab_files = drive.ListFile({'q': \"'1p-TUsW0N_OJPJvlNSFiC4nrvz-jQMb1C' in parents and trashed=false\"}).GetList()\n",
        "\n",
        "def find_file(name, file_list):\n",
        "  return [f for f in file_list if f['title'] == name][0]\n",
        "\n",
        "# Find the GloVE embeddings and Glassdoor data files.\n",
        "glove_txt = find_file('glove.6B.300d.txt', colab_files)\n",
        "english_csv = find_file('Glassdoor_English_2018-07-13.csv', colab_files)"
      ],
      "execution_count": 0,
      "outputs": []
    },
    {
      "metadata": {
        "id": "CXLsgGtlgz-b",
        "colab_type": "code",
        "colab": {
          "base_uri": "https://localhost:8080/",
          "height": 204
        },
        "outputId": "fe1f2ec7-71b1-4caf-b485-051c4ed50802"
      },
      "cell_type": "code",
      "source": [
        "# Read the Glassdoor data into a CSV\n",
        "df = pd.read_csv(StringIO(english_csv.GetContentString()), sep='\\t')\n",
        "df.head()"
      ],
      "execution_count": 6,
      "outputs": [
        {
          "output_type": "execute_result",
          "data": {
            "text/html": [
              "<div>\n",
              "<style scoped>\n",
              "    .dataframe tbody tr th:only-of-type {\n",
              "        vertical-align: middle;\n",
              "    }\n",
              "\n",
              "    .dataframe tbody tr th {\n",
              "        vertical-align: top;\n",
              "    }\n",
              "\n",
              "    .dataframe thead th {\n",
              "        text-align: right;\n",
              "    }\n",
              "</style>\n",
              "<table border=\"1\" class=\"dataframe\">\n",
              "  <thead>\n",
              "    <tr style=\"text-align: right;\">\n",
              "      <th></th>\n",
              "      <th>Company</th>\n",
              "      <th>Date</th>\n",
              "      <th>Pros</th>\n",
              "      <th>Cons</th>\n",
              "      <th>Helpful</th>\n",
              "      <th>Page</th>\n",
              "      <th>Url</th>\n",
              "      <th>ScrapeDate</th>\n",
              "      <th>Language</th>\n",
              "    </tr>\n",
              "  </thead>\n",
              "  <tbody>\n",
              "    <tr>\n",
              "      <th>0</th>\n",
              "      <td>3M</td>\n",
              "      <td>2014-02-16</td>\n",
              "      <td>competitive salary, international opportunitie...</td>\n",
              "      <td>little room for lateral growth, not run as a m...</td>\n",
              "      <td>0.0</td>\n",
              "      <td>100</td>\n",
              "      <td>https://www.glassdoor.com/Reviews/3M-Reviews-E...</td>\n",
              "      <td>2018-07-13</td>\n",
              "      <td>en</td>\n",
              "    </tr>\n",
              "    <tr>\n",
              "      <th>1</th>\n",
              "      <td>3M</td>\n",
              "      <td>2014-03-05</td>\n",
              "      <td>Not too many benefits are about it</td>\n",
              "      <td>Isolation - People are under a lot of pressure...</td>\n",
              "      <td>1.0</td>\n",
              "      <td>100</td>\n",
              "      <td>https://www.glassdoor.com/Reviews/3M-Reviews-E...</td>\n",
              "      <td>2018-07-13</td>\n",
              "      <td>en</td>\n",
              "    </tr>\n",
              "    <tr>\n",
              "      <th>2</th>\n",
              "      <td>3M</td>\n",
              "      <td>2014-01-28</td>\n",
              "      <td>Benefits, fitness center, high tech environmen...</td>\n",
              "      <td>Lack of flexibility, e.g. no opportunity to wo...</td>\n",
              "      <td>0.0</td>\n",
              "      <td>100</td>\n",
              "      <td>https://www.glassdoor.com/Reviews/3M-Reviews-E...</td>\n",
              "      <td>2018-07-13</td>\n",
              "      <td>en</td>\n",
              "    </tr>\n",
              "    <tr>\n",
              "      <th>3</th>\n",
              "      <td>3M</td>\n",
              "      <td>2014-01-29</td>\n",
              "      <td>Everyone treats you as their equal, and encour...</td>\n",
              "      <td>There are no cons in my opinion.</td>\n",
              "      <td>0.0</td>\n",
              "      <td>100</td>\n",
              "      <td>https://www.glassdoor.com/Reviews/3M-Reviews-E...</td>\n",
              "      <td>2018-07-13</td>\n",
              "      <td>en</td>\n",
              "    </tr>\n",
              "    <tr>\n",
              "      <th>4</th>\n",
              "      <td>3M</td>\n",
              "      <td>2014-01-23</td>\n",
              "      <td>Outstanding benefits, great advancement opport...</td>\n",
              "      <td>Some employees can be aggressive, HR policies ...</td>\n",
              "      <td>0.0</td>\n",
              "      <td>100</td>\n",
              "      <td>https://www.glassdoor.com/Reviews/3M-Reviews-E...</td>\n",
              "      <td>2018-07-13</td>\n",
              "      <td>en</td>\n",
              "    </tr>\n",
              "  </tbody>\n",
              "</table>\n",
              "</div>"
            ],
            "text/plain": [
              "  Company        Date                                               Pros  \\\n",
              "0      3M  2014-02-16  competitive salary, international opportunitie...   \n",
              "1      3M  2014-03-05                 Not too many benefits are about it   \n",
              "2      3M  2014-01-28  Benefits, fitness center, high tech environmen...   \n",
              "3      3M  2014-01-29  Everyone treats you as their equal, and encour...   \n",
              "4      3M  2014-01-23  Outstanding benefits, great advancement opport...   \n",
              "\n",
              "                                                Cons  Helpful  Page  \\\n",
              "0  little room for lateral growth, not run as a m...      0.0   100   \n",
              "1  Isolation - People are under a lot of pressure...      1.0   100   \n",
              "2  Lack of flexibility, e.g. no opportunity to wo...      0.0   100   \n",
              "3                   There are no cons in my opinion.      0.0   100   \n",
              "4  Some employees can be aggressive, HR policies ...      0.0   100   \n",
              "\n",
              "                                                 Url  ScrapeDate Language  \n",
              "0  https://www.glassdoor.com/Reviews/3M-Reviews-E...  2018-07-13       en  \n",
              "1  https://www.glassdoor.com/Reviews/3M-Reviews-E...  2018-07-13       en  \n",
              "2  https://www.glassdoor.com/Reviews/3M-Reviews-E...  2018-07-13       en  \n",
              "3  https://www.glassdoor.com/Reviews/3M-Reviews-E...  2018-07-13       en  \n",
              "4  https://www.glassdoor.com/Reviews/3M-Reviews-E...  2018-07-13       en  "
            ]
          },
          "metadata": {
            "tags": []
          },
          "execution_count": 6
        }
      ]
    },
    {
      "metadata": {
        "id": "1DyouUQAg19Y",
        "colab_type": "code",
        "colab": {}
      },
      "cell_type": "code",
      "source": [
        "# Preprocessing \n",
        "# 1. Binarize the Helpful columns to 0 and 1; 1 if > 0, 0 otherwise.\n",
        "# 2. Create a new Review column by concatenating the Pros and Cons columns\n",
        "# 3. Filter to only where Review is not null, and filter to only the data & label columns\n",
        "df['IsHelpful'] = df['Helpful'].gt(0).astype(int)\n",
        "df['Review'] = (df['Pros'] + '. ' + df['Cons']).str.lower()\n",
        "df = df.loc[~df['Review'].isnull(), ['Review', 'IsHelpful']]"
      ],
      "execution_count": 0,
      "outputs": []
    },
    {
      "metadata": {
        "id": "zF9TQNiqg32C",
        "colab_type": "code",
        "colab": {}
      },
      "cell_type": "code",
      "source": [
        "\n",
        "# Tokenize & pad the text. Find the max sequence length.\n",
        "texts = df['Review'].tolist()\n",
        "tokenizer = Tokenizer(num_words=VOCAB_SIZE)\n",
        "tokenizer.fit_on_texts(texts)\n",
        "sequences = tokenizer.texts_to_sequences(texts)\n",
        "\n",
        "MAX_SEQUENCE_LENGTH = max(len(s) for s in sequences)\n",
        "\n",
        "X = pad_sequences(sequences, padding='post')\n",
        "y = df['IsHelpful'].values"
      ],
      "execution_count": 0,
      "outputs": []
    },
    {
      "metadata": {
        "id": "7y_7dxW0hrEs",
        "colab_type": "code",
        "colab": {}
      },
      "cell_type": "code",
      "source": [
        "# Create a dictionary of each word -> vector\n",
        "embeddings_index = {}\n",
        "\n",
        "for line in glove_lines:\n",
        "    values = line.split()\n",
        "    word = values[0]\n",
        "    coefs = np.asarray(values[1:], dtype='float32')\n",
        "    embeddings_index[word] = coefs"
      ],
      "execution_count": 0,
      "outputs": []
    },
    {
      "metadata": {
        "id": "KmDNJbBohwoS",
        "colab_type": "code",
        "colab": {
          "base_uri": "https://localhost:8080/",
          "height": 231
        },
        "outputId": "3653323f-cba1-4d5a-ae80-ddfb897408bc"
      },
      "cell_type": "code",
      "source": [
        "# Create the initial embedding matrix as a NumPy array.\n",
        "# ToDo: finish this; for now I'll just do embeddings from scratch\n",
        "chained = []\n",
        "\n",
        "for seq in sequences:\n",
        "  chained += seq\n",
        "\n",
        "distinct_ids = list(set(chained))\n",
        "\n",
        "word_to_id = tokenizer.word_index\n",
        "id_to_word = dict(zip(word_to_id.values(), word_to_id.keys()))\n",
        "\n",
        "embedding_matrix = np.zeros((VOCAB_SIZE, EMBEDDING_DIM))\n",
        "for i in range(VOCAB_SIZE):\n",
        "    word = id_to_word[i]\n",
        "    embedding_vector = embeddings_index.get(word)\n",
        "    if embedding_vector is not None:\n",
        "        # words not found in embedding index will be all-zeros.\n",
        "        embedding_matrix[i] = embedding_vector"
      ],
      "execution_count": 45,
      "outputs": [
        {
          "output_type": "error",
          "ename": "KeyError",
          "evalue": "ignored",
          "traceback": [
            "\u001b[0;31m---------------------------------------------------------------------------\u001b[0m",
            "\u001b[0;31mKeyError\u001b[0m                                  Traceback (most recent call last)",
            "\u001b[0;32m<ipython-input-45-f09f6be9ef6d>\u001b[0m in \u001b[0;36m<module>\u001b[0;34m()\u001b[0m\n\u001b[1;32m      4\u001b[0m \u001b[0membedding_matrix\u001b[0m \u001b[0;34m=\u001b[0m \u001b[0mnp\u001b[0m\u001b[0;34m.\u001b[0m\u001b[0mzeros\u001b[0m\u001b[0;34m(\u001b[0m\u001b[0;34m(\u001b[0m\u001b[0mVOCAB_SIZE\u001b[0m\u001b[0;34m,\u001b[0m \u001b[0mEMBEDDING_DIM\u001b[0m\u001b[0;34m)\u001b[0m\u001b[0;34m)\u001b[0m\u001b[0;34m\u001b[0m\u001b[0m\n\u001b[1;32m      5\u001b[0m \u001b[0;32mfor\u001b[0m \u001b[0mi\u001b[0m \u001b[0;32min\u001b[0m \u001b[0mrange\u001b[0m\u001b[0;34m(\u001b[0m\u001b[0mVOCAB_SIZE\u001b[0m\u001b[0;34m)\u001b[0m\u001b[0;34m:\u001b[0m\u001b[0;34m\u001b[0m\u001b[0m\n\u001b[0;32m----> 6\u001b[0;31m     \u001b[0mword\u001b[0m \u001b[0;34m=\u001b[0m \u001b[0mid_to_word\u001b[0m\u001b[0;34m[\u001b[0m\u001b[0mi\u001b[0m\u001b[0;34m]\u001b[0m\u001b[0;34m\u001b[0m\u001b[0m\n\u001b[0m\u001b[1;32m      7\u001b[0m     \u001b[0membedding_vector\u001b[0m \u001b[0;34m=\u001b[0m \u001b[0membeddings_index\u001b[0m\u001b[0;34m.\u001b[0m\u001b[0mget\u001b[0m\u001b[0;34m(\u001b[0m\u001b[0mword\u001b[0m\u001b[0;34m)\u001b[0m\u001b[0;34m\u001b[0m\u001b[0m\n\u001b[1;32m      8\u001b[0m     \u001b[0;32mif\u001b[0m \u001b[0membedding_vector\u001b[0m \u001b[0;32mis\u001b[0m \u001b[0;32mnot\u001b[0m \u001b[0;32mNone\u001b[0m\u001b[0;34m:\u001b[0m\u001b[0;34m\u001b[0m\u001b[0m\n",
            "\u001b[0;31mKeyError\u001b[0m: 0"
          ]
        }
      ]
    },
    {
      "metadata": {
        "id": "eO8oAFtth05T",
        "colab_type": "code",
        "colab": {}
      },
      "cell_type": "code",
      "source": [
        "import itertools"
      ],
      "execution_count": 0,
      "outputs": []
    },
    {
      "metadata": {
        "id": "e6mQ5b2CjamZ",
        "colab_type": "code",
        "colab": {}
      },
      "cell_type": "code",
      "source": [
        "chained = []\n",
        "\n",
        "for seq in sequences:\n",
        "  chained += seq\n",
        "\n",
        "distinct_vocab = set(chained)"
      ],
      "execution_count": 0,
      "outputs": []
    },
    {
      "metadata": {
        "id": "bG-lTX5Fjh14",
        "colab_type": "code",
        "colab": {}
      },
      "cell_type": "code",
      "source": [
        "seq = sequences[0]"
      ],
      "execution_count": 0,
      "outputs": []
    },
    {
      "metadata": {
        "id": "3-tXkCatkKU-",
        "colab_type": "code",
        "colab": {
          "base_uri": "https://localhost:8080/",
          "height": 54
        },
        "outputId": "c6aae31f-65dc-4455-f918-6acda04a5aa3"
      },
      "cell_type": "code",
      "source": [
        "df['Review'].iloc[0]"
      ],
      "execution_count": 34,
      "outputs": [
        {
          "output_type": "execute_result",
          "data": {
            "text/plain": [
              "'competitive salary, international opportunities, innovative product offering, top-notch r&d department, adequate benefits. little room for lateral growth, not run as a meritocracy, incredibly political for career advancement, incompetent management, diversity is lacking, difficult to retain young talent'"
            ]
          },
          "metadata": {
            "tags": []
          },
          "execution_count": 34
        }
      ]
    },
    {
      "metadata": {
        "id": "HjeE0GiBkRzn",
        "colab_type": "code",
        "colab": {
          "base_uri": "https://localhost:8080/",
          "height": 54
        },
        "outputId": "bb0af1a0-48a5-4255-8bfe-11b00f7eb9bf"
      },
      "cell_type": "code",
      "source": [
        "\n",
        "\n",
        "text = ' '.join(id_to_word[i] for i in seq)\n",
        "print(text)"
      ],
      "execution_count": 41,
      "outputs": [
        {
          "output_type": "stream",
          "text": [
            "competitive salary international opportunities innovative product offering top notch r d department adequate benefits little room for lateral growth not run as a meritocracy incredibly political for career advancement incompetent management diversity is lacking difficult to retain young talent\n"
          ],
          "name": "stdout"
        }
      ]
    },
    {
      "metadata": {
        "id": "oX1EkHZO2Sp6",
        "colab_type": "code",
        "colab": {}
      },
      "cell_type": "code",
      "source": [
        "X_train, X_test, y_train, y_test = train_test_split(X, y, test_size=0.1)"
      ],
      "execution_count": 0,
      "outputs": []
    },
    {
      "metadata": {
        "id": "-OLUaiC2kuzE",
        "colab_type": "code",
        "colab": {
          "base_uri": "https://localhost:8080/",
          "height": 6259
        },
        "outputId": "c62e65ad-dfe0-427f-c6ad-74131833933c"
      },
      "cell_type": "code",
      "source": [
        "# Model hyperparameters\n",
        "EMBEDDING_DIM = 300\n",
        "VOCAB_SIZE = 10000\n",
        "NUM_FILTERS = 100\n",
        "FILTER_SIZES = [5, 15, 30]\n",
        "BATCH_SIZE = 64\n",
        "NUM_EPOCHS = 5\n",
        "DROPOUT_RATES = [0, 0.1, 0.2, 0.3, 0.4, 0.5]\n",
        "\n",
        "\n",
        "for drop in DROPOUT_RATES:\n",
        "    print('========================================================')\n",
        "    print('Dropout rate: {}'.format(drop))\n",
        "    print('========================================================')\n",
        "\n",
        "    inputs = []\n",
        "    channels = []\n",
        "\n",
        "    for filter_size in FILTER_SIZES:\n",
        "        input_ = Input(shape=(MAX_SEQUENCE_LENGTH,))\n",
        "        inputs.append(input_)\n",
        "\n",
        "        channel = Embedding(VOCAB_SIZE, EMBEDDING_DIM,\n",
        "                      input_length=MAX_SEQUENCE_LENGTH,\n",
        "                      trainable=True)(input_)\n",
        "        channel = Conv1D(filters=100, kernel_size=filter_size, padding='valid', \n",
        "                   activation='relu')(channel)\n",
        "        channel = MaxPooling1D(2)(channel)\n",
        "        channel = Flatten()(channel)\n",
        "        channels.append(channel)\n",
        "\n",
        "    merged = concatenate(channels)\n",
        "    merged = Dropout(drop)(merged)\n",
        "    outputs = Dense(1, activation='sigmoid')(merged)\n",
        "\n",
        "    model = Model(inputs=inputs, outputs=outputs)\n",
        "    model.compile(optimizer='adam',\n",
        "                  loss='binary_crossentropy',\n",
        "                  metrics=['accuracy'])\n",
        "\n",
        "\n",
        "    print(model.summary())\n",
        "\n",
        "    model.fit([X_train, X_train, X_train], y_train, epochs=NUM_EPOCHS, \n",
        "              batch_size=BATCH_SIZE, validation_split=0.2)\n",
        "\n",
        "    y_test_pred = model.predict([X_test, X_test, X_test])\n",
        "    acc = accuracy_score(y_test, np.rint(y_test_pred))\n",
        "\n",
        "    print('Accuracy score: {}'.format(acc))"
      ],
      "execution_count": 22,
      "outputs": [
        {
          "output_type": "stream",
          "text": [
            "========================================================\n",
            "Dropout rate: 0\n",
            "========================================================\n",
            "__________________________________________________________________________________________________\n",
            "Layer (type)                    Output Shape         Param #     Connected to                     \n",
            "==================================================================================================\n",
            "input_14 (InputLayer)           (None, 175)          0                                            \n",
            "__________________________________________________________________________________________________\n",
            "input_15 (InputLayer)           (None, 175)          0                                            \n",
            "__________________________________________________________________________________________________\n",
            "input_16 (InputLayer)           (None, 175)          0                                            \n",
            "__________________________________________________________________________________________________\n",
            "embedding_14 (Embedding)        (None, 175, 300)     3000000     input_14[0][0]                   \n",
            "__________________________________________________________________________________________________\n",
            "embedding_15 (Embedding)        (None, 175, 300)     3000000     input_15[0][0]                   \n",
            "__________________________________________________________________________________________________\n",
            "embedding_16 (Embedding)        (None, 175, 300)     3000000     input_16[0][0]                   \n",
            "__________________________________________________________________________________________________\n",
            "conv1d_14 (Conv1D)              (None, 171, 100)     150100      embedding_14[0][0]               \n",
            "__________________________________________________________________________________________________\n",
            "conv1d_15 (Conv1D)              (None, 161, 100)     450100      embedding_15[0][0]               \n",
            "__________________________________________________________________________________________________\n",
            "conv1d_16 (Conv1D)              (None, 146, 100)     900100      embedding_16[0][0]               \n",
            "__________________________________________________________________________________________________\n",
            "max_pooling1d_14 (MaxPooling1D) (None, 85, 100)      0           conv1d_14[0][0]                  \n",
            "__________________________________________________________________________________________________\n",
            "max_pooling1d_15 (MaxPooling1D) (None, 80, 100)      0           conv1d_15[0][0]                  \n",
            "__________________________________________________________________________________________________\n",
            "max_pooling1d_16 (MaxPooling1D) (None, 73, 100)      0           conv1d_16[0][0]                  \n",
            "__________________________________________________________________________________________________\n",
            "flatten_14 (Flatten)            (None, 8500)         0           max_pooling1d_14[0][0]           \n",
            "__________________________________________________________________________________________________\n",
            "flatten_15 (Flatten)            (None, 8000)         0           max_pooling1d_15[0][0]           \n",
            "__________________________________________________________________________________________________\n",
            "flatten_16 (Flatten)            (None, 7300)         0           max_pooling1d_16[0][0]           \n",
            "__________________________________________________________________________________________________\n",
            "concatenate_5 (Concatenate)     (None, 23800)        0           flatten_14[0][0]                 \n",
            "                                                                 flatten_15[0][0]                 \n",
            "                                                                 flatten_16[0][0]                 \n",
            "__________________________________________________________________________________________________\n",
            "dropout_5 (Dropout)             (None, 23800)        0           concatenate_5[0][0]              \n",
            "__________________________________________________________________________________________________\n",
            "dense_5 (Dense)                 (None, 1)            23801       dropout_5[0][0]                  \n",
            "==================================================================================================\n",
            "Total params: 10,524,101\n",
            "Trainable params: 10,524,101\n",
            "Non-trainable params: 0\n",
            "__________________________________________________________________________________________________\n",
            "None\n",
            "Train on 186708 samples, validate on 46677 samples\n",
            "Epoch 1/5\n",
            "  1280/186708 [..............................] - ETA: 7:02 - loss: 0.5745 - acc: 0.7039"
          ],
          "name": "stdout"
        },
        {
          "output_type": "stream",
          "text": [
            "186688/186708 [============================>.] - ETA: 0s - loss: 0.5251 - acc: 0.7504"
          ],
          "name": "stdout"
        },
        {
          "output_type": "stream",
          "text": [
            "186708/186708 [==============================] - 267s 1ms/step - loss: 0.5251 - acc: 0.7504 - val_loss: 0.5187 - val_acc: 0.7548\n",
            "Epoch 2/5\n",
            " 28224/186708 [===>..........................] - ETA: 3:27 - loss: 0.4496 - acc: 0.8041"
          ],
          "name": "stdout"
        },
        {
          "output_type": "stream",
          "text": [
            "186688/186708 [============================>.] - ETA: 0s - loss: 0.4594 - acc: 0.7956"
          ],
          "name": "stdout"
        },
        {
          "output_type": "stream",
          "text": [
            "186708/186708 [==============================] - 263s 1ms/step - loss: 0.4594 - acc: 0.7956 - val_loss: 0.5629 - val_acc: 0.7432\n",
            "Epoch 3/5\n",
            " 28224/186708 [===>..........................] - ETA: 3:27 - loss: 0.2625 - acc: 0.9007"
          ],
          "name": "stdout"
        },
        {
          "output_type": "stream",
          "text": [
            "186688/186708 [============================>.] - ETA: 0s - loss: 0.2767 - acc: 0.8904"
          ],
          "name": "stdout"
        },
        {
          "output_type": "stream",
          "text": [
            "186708/186708 [==============================] - 266s 1ms/step - loss: 0.2767 - acc: 0.8903 - val_loss: 0.7647 - val_acc: 0.7262\n",
            "Epoch 4/5\n",
            " 28224/186708 [===>..........................] - ETA: 3:26 - loss: 0.1289 - acc: 0.9562"
          ],
          "name": "stdout"
        },
        {
          "output_type": "stream",
          "text": [
            "186688/186708 [============================>.] - ETA: 0s - loss: 0.1442 - acc: 0.9475"
          ],
          "name": "stdout"
        },
        {
          "output_type": "stream",
          "text": [
            "186708/186708 [==============================] - 263s 1ms/step - loss: 0.1442 - acc: 0.9475 - val_loss: 1.1356 - val_acc: 0.7171\n",
            "Epoch 5/5\n",
            " 28224/186708 [===>..........................] - ETA: 3:28 - loss: 0.0652 - acc: 0.9791"
          ],
          "name": "stdout"
        },
        {
          "output_type": "stream",
          "text": [
            "186688/186708 [============================>.] - ETA: 0s - loss: 0.0882 - acc: 0.9694"
          ],
          "name": "stdout"
        },
        {
          "output_type": "stream",
          "text": [
            "\b\b\b\b\b\b\b\b\b\b\b\b\b\b\b\b\b\b\b\b\b\b\b\b\b\b\b\b\b\b\b\b\b\b\b\b\b\b\b\b\b\b\b\b\b\b\b\b\b\b\b\b\b\b\b\b\b\b\b\b\b\b\b\b\b\b\b\b\b\b\b\b\b\b\b\b\b\b\b\b\b\b\b\b\b\r186708/186708 [==============================] - 265s 1ms/step - loss: 0.0882 - acc: 0.9694 - val_loss: 1.4627 - val_acc: 0.7149\n",
            "Accuracy score: 0.7071957427117076\n",
            "========================================================\n",
            "Dropout rate: 0.1\n",
            "========================================================\n",
            "__________________________________________________________________________________________________\n",
            "Layer (type)                    Output Shape         Param #     Connected to                     \n",
            "==================================================================================================\n",
            "input_17 (InputLayer)           (None, 175)          0                                            \n",
            "__________________________________________________________________________________________________\n",
            "input_18 (InputLayer)           (None, 175)          0                                            \n",
            "__________________________________________________________________________________________________\n",
            "input_19 (InputLayer)           (None, 175)          0                                            \n",
            "__________________________________________________________________________________________________\n",
            "embedding_17 (Embedding)        (None, 175, 300)     3000000     input_17[0][0]                   \n",
            "__________________________________________________________________________________________________\n",
            "embedding_18 (Embedding)        (None, 175, 300)     3000000     input_18[0][0]                   \n",
            "__________________________________________________________________________________________________\n",
            "embedding_19 (Embedding)        (None, 175, 300)     3000000     input_19[0][0]                   \n",
            "__________________________________________________________________________________________________\n",
            "conv1d_17 (Conv1D)              (None, 171, 100)     150100      embedding_17[0][0]               \n",
            "__________________________________________________________________________________________________\n",
            "conv1d_18 (Conv1D)              (None, 161, 100)     450100      embedding_18[0][0]               \n",
            "__________________________________________________________________________________________________\n",
            "conv1d_19 (Conv1D)              (None, 146, 100)     900100      embedding_19[0][0]               \n",
            "__________________________________________________________________________________________________\n",
            "max_pooling1d_17 (MaxPooling1D) (None, 85, 100)      0           conv1d_17[0][0]                  \n",
            "__________________________________________________________________________________________________\n",
            "max_pooling1d_18 (MaxPooling1D) (None, 80, 100)      0           conv1d_18[0][0]                  \n",
            "__________________________________________________________________________________________________\n",
            "max_pooling1d_19 (MaxPooling1D) (None, 73, 100)      0           conv1d_19[0][0]                  \n",
            "__________________________________________________________________________________________________\n",
            "flatten_17 (Flatten)            (None, 8500)         0           max_pooling1d_17[0][0]           \n",
            "__________________________________________________________________________________________________\n",
            "flatten_18 (Flatten)            (None, 8000)         0           max_pooling1d_18[0][0]           \n",
            "__________________________________________________________________________________________________\n",
            "flatten_19 (Flatten)            (None, 7300)         0           max_pooling1d_19[0][0]           \n",
            "__________________________________________________________________________________________________\n",
            "concatenate_6 (Concatenate)     (None, 23800)        0           flatten_17[0][0]                 \n",
            "                                                                 flatten_18[0][0]                 \n",
            "                                                                 flatten_19[0][0]                 \n",
            "__________________________________________________________________________________________________\n",
            "dropout_6 (Dropout)             (None, 23800)        0           concatenate_6[0][0]              \n",
            "__________________________________________________________________________________________________\n",
            "dense_6 (Dense)                 (None, 1)            23801       dropout_6[0][0]                  \n",
            "==================================================================================================\n",
            "Total params: 10,524,101\n",
            "Trainable params: 10,524,101\n",
            "Non-trainable params: 0\n",
            "__________________________________________________________________________________________________\n",
            "None\n",
            "Train on 186708 samples, validate on 46677 samples\n",
            "Epoch 1/5\n",
            "  1152/186708 [..............................] - ETA: 8:07 - loss: 0.6148 - acc: 0.6788"
          ],
          "name": "stdout"
        },
        {
          "output_type": "stream",
          "text": [
            "186688/186708 [============================>.] - ETA: 0s - loss: 0.5248 - acc: 0.7497"
          ],
          "name": "stdout"
        },
        {
          "output_type": "stream",
          "text": [
            "186708/186708 [==============================] - 268s 1ms/step - loss: 0.5248 - acc: 0.7497 - val_loss: 0.5155 - val_acc: 0.7569\n",
            "Epoch 2/5\n",
            " 28224/186708 [===>..........................] - ETA: 3:30 - loss: 0.4557 - acc: 0.7977"
          ],
          "name": "stdout"
        },
        {
          "output_type": "stream",
          "text": [
            "186688/186708 [============================>.] - ETA: 0s - loss: 0.4674 - acc: 0.7908"
          ],
          "name": "stdout"
        },
        {
          "output_type": "stream",
          "text": [
            "186708/186708 [==============================] - 265s 1ms/step - loss: 0.4674 - acc: 0.7908 - val_loss: 0.5497 - val_acc: 0.7442\n",
            "Epoch 3/5\n",
            " 28224/186708 [===>..........................] - ETA: 3:27 - loss: 0.2900 - acc: 0.8886"
          ],
          "name": "stdout"
        },
        {
          "output_type": "stream",
          "text": [
            "186688/186708 [============================>.] - ETA: 0s - loss: 0.3106 - acc: 0.8744"
          ],
          "name": "stdout"
        },
        {
          "output_type": "stream",
          "text": [
            "186708/186708 [==============================] - 267s 1ms/step - loss: 0.3106 - acc: 0.8744 - val_loss: 0.7125 - val_acc: 0.7337\n",
            "Epoch 4/5\n",
            " 28224/186708 [===>..........................] - ETA: 3:27 - loss: 0.1604 - acc: 0.9436"
          ],
          "name": "stdout"
        },
        {
          "output_type": "stream",
          "text": [
            "186688/186708 [============================>.] - ETA: 0s - loss: 0.1827 - acc: 0.9308"
          ],
          "name": "stdout"
        },
        {
          "output_type": "stream",
          "text": [
            "186708/186708 [==============================] - 266s 1ms/step - loss: 0.1827 - acc: 0.9308 - val_loss: 0.9904 - val_acc: 0.7128\n",
            "Epoch 5/5\n",
            " 28224/186708 [===>..........................] - ETA: 3:28 - loss: 0.0962 - acc: 0.9656"
          ],
          "name": "stdout"
        },
        {
          "output_type": "stream",
          "text": [
            "186688/186708 [============================>.] - ETA: 0s - loss: 0.1222 - acc: 0.9548"
          ],
          "name": "stdout"
        },
        {
          "output_type": "stream",
          "text": [
            "\b\b\b\b\b\b\b\b\b\b\b\b\b\b\b\b\b\b\b\b\b\b\b\b\b\b\b\b\b\b\b\b\b\b\b\b\b\b\b\b\b\b\b\b\b\b\b\b\b\b\b\b\b\b\b\b\b\b\b\b\b\b\b\b\b\b\b\b\b\b\b\b\b\b\b\b\b\b\b\b\b\b\b\b\b\r186708/186708 [==============================] - 265s 1ms/step - loss: 0.1222 - acc: 0.9548 - val_loss: 1.2872 - val_acc: 0.6986\n",
            "Accuracy score: 0.6985963288600956\n",
            "========================================================\n",
            "Dropout rate: 0.2\n",
            "========================================================\n",
            "__________________________________________________________________________________________________\n",
            "Layer (type)                    Output Shape         Param #     Connected to                     \n",
            "==================================================================================================\n",
            "input_20 (InputLayer)           (None, 175)          0                                            \n",
            "__________________________________________________________________________________________________\n",
            "input_21 (InputLayer)           (None, 175)          0                                            \n",
            "__________________________________________________________________________________________________\n",
            "input_22 (InputLayer)           (None, 175)          0                                            \n",
            "__________________________________________________________________________________________________\n",
            "embedding_20 (Embedding)        (None, 175, 300)     3000000     input_20[0][0]                   \n",
            "__________________________________________________________________________________________________\n",
            "embedding_21 (Embedding)        (None, 175, 300)     3000000     input_21[0][0]                   \n",
            "__________________________________________________________________________________________________\n",
            "embedding_22 (Embedding)        (None, 175, 300)     3000000     input_22[0][0]                   \n",
            "__________________________________________________________________________________________________\n",
            "conv1d_20 (Conv1D)              (None, 171, 100)     150100      embedding_20[0][0]               \n",
            "__________________________________________________________________________________________________\n",
            "conv1d_21 (Conv1D)              (None, 161, 100)     450100      embedding_21[0][0]               \n",
            "__________________________________________________________________________________________________\n",
            "conv1d_22 (Conv1D)              (None, 146, 100)     900100      embedding_22[0][0]               \n",
            "__________________________________________________________________________________________________\n",
            "max_pooling1d_20 (MaxPooling1D) (None, 85, 100)      0           conv1d_20[0][0]                  \n",
            "__________________________________________________________________________________________________\n",
            "max_pooling1d_21 (MaxPooling1D) (None, 80, 100)      0           conv1d_21[0][0]                  \n",
            "__________________________________________________________________________________________________\n",
            "max_pooling1d_22 (MaxPooling1D) (None, 73, 100)      0           conv1d_22[0][0]                  \n",
            "__________________________________________________________________________________________________\n",
            "flatten_20 (Flatten)            (None, 8500)         0           max_pooling1d_20[0][0]           \n",
            "__________________________________________________________________________________________________\n",
            "flatten_21 (Flatten)            (None, 8000)         0           max_pooling1d_21[0][0]           \n",
            "__________________________________________________________________________________________________\n",
            "flatten_22 (Flatten)            (None, 7300)         0           max_pooling1d_22[0][0]           \n",
            "__________________________________________________________________________________________________\n",
            "concatenate_7 (Concatenate)     (None, 23800)        0           flatten_20[0][0]                 \n",
            "                                                                 flatten_21[0][0]                 \n",
            "                                                                 flatten_22[0][0]                 \n",
            "__________________________________________________________________________________________________\n",
            "dropout_7 (Dropout)             (None, 23800)        0           concatenate_7[0][0]              \n",
            "__________________________________________________________________________________________________\n",
            "dense_7 (Dense)                 (None, 1)            23801       dropout_7[0][0]                  \n",
            "==================================================================================================\n",
            "Total params: 10,524,101\n",
            "Trainable params: 10,524,101\n",
            "Non-trainable params: 0\n",
            "__________________________________________________________________________________________________\n",
            "None\n",
            "Train on 186708 samples, validate on 46677 samples\n",
            "Epoch 1/5\n",
            "  1152/186708 [..............................] - ETA: 8:23 - loss: 0.6066 - acc: 0.6701"
          ],
          "name": "stdout"
        },
        {
          "output_type": "stream",
          "text": [
            "186688/186708 [============================>.] - ETA: 0s - loss: 0.5268 - acc: 0.7488"
          ],
          "name": "stdout"
        },
        {
          "output_type": "stream",
          "text": [
            "186708/186708 [==============================] - 268s 1ms/step - loss: 0.5268 - acc: 0.7488 - val_loss: 0.5199 - val_acc: 0.7567\n",
            "Epoch 2/5\n",
            " 28224/186708 [===>..........................] - ETA: 3:32 - loss: 0.4566 - acc: 0.7973"
          ],
          "name": "stdout"
        },
        {
          "output_type": "stream",
          "text": [
            "186688/186708 [============================>.] - ETA: 0s - loss: 0.4712 - acc: 0.7885"
          ],
          "name": "stdout"
        },
        {
          "output_type": "stream",
          "text": [
            "186708/186708 [==============================] - 265s 1ms/step - loss: 0.4713 - acc: 0.7885 - val_loss: 0.5457 - val_acc: 0.7444\n",
            "Epoch 3/5\n",
            " 28224/186708 [===>..........................] - ETA: 3:31 - loss: 0.3112 - acc: 0.8760"
          ],
          "name": "stdout"
        },
        {
          "output_type": "stream",
          "text": [
            "186688/186708 [============================>.] - ETA: 0s - loss: 0.3307 - acc: 0.8644"
          ],
          "name": "stdout"
        },
        {
          "output_type": "stream",
          "text": [
            "186708/186708 [==============================] - 270s 1ms/step - loss: 0.3307 - acc: 0.8644 - val_loss: 0.6844 - val_acc: 0.7232\n",
            "Epoch 4/5\n",
            " 28224/186708 [===>..........................] - ETA: 3:28 - loss: 0.1880 - acc: 0.9290"
          ],
          "name": "stdout"
        },
        {
          "output_type": "stream",
          "text": [
            "186688/186708 [============================>.] - ETA: 0s - loss: 0.2123 - acc: 0.9179"
          ],
          "name": "stdout"
        },
        {
          "output_type": "stream",
          "text": [
            "186708/186708 [==============================] - 264s 1ms/step - loss: 0.2123 - acc: 0.9178 - val_loss: 0.8910 - val_acc: 0.7110\n",
            "Epoch 5/5\n",
            " 28224/186708 [===>..........................] - ETA: 3:27 - loss: 0.1252 - acc: 0.9553"
          ],
          "name": "stdout"
        },
        {
          "output_type": "stream",
          "text": [
            "186688/186708 [============================>.] - ETA: 0s - loss: 0.1538 - acc: 0.9423"
          ],
          "name": "stdout"
        },
        {
          "output_type": "stream",
          "text": [
            "\b\b\b\b\b\b\b\b\b\b\b\b\b\b\b\b\b\b\b\b\b\b\b\b\b\b\b\b\b\b\b\b\b\b\b\b\b\b\b\b\b\b\b\b\b\b\b\b\b\b\b\b\b\b\b\b\b\b\b\b\b\b\b\b\b\b\b\b\b\b\b\b\b\b\b\b\b\b\b\b\b\b\b\b\b\r186708/186708 [==============================] - 265s 1ms/step - loss: 0.1538 - acc: 0.9423 - val_loss: 1.1018 - val_acc: 0.7127\n",
            "Accuracy score: 0.7105892333796082\n",
            "========================================================\n",
            "Dropout rate: 0.3\n",
            "========================================================\n",
            "__________________________________________________________________________________________________\n",
            "Layer (type)                    Output Shape         Param #     Connected to                     \n",
            "==================================================================================================\n",
            "input_23 (InputLayer)           (None, 175)          0                                            \n",
            "__________________________________________________________________________________________________\n",
            "input_24 (InputLayer)           (None, 175)          0                                            \n",
            "__________________________________________________________________________________________________\n",
            "input_25 (InputLayer)           (None, 175)          0                                            \n",
            "__________________________________________________________________________________________________\n",
            "embedding_23 (Embedding)        (None, 175, 300)     3000000     input_23[0][0]                   \n",
            "__________________________________________________________________________________________________\n",
            "embedding_24 (Embedding)        (None, 175, 300)     3000000     input_24[0][0]                   \n",
            "__________________________________________________________________________________________________\n",
            "embedding_25 (Embedding)        (None, 175, 300)     3000000     input_25[0][0]                   \n",
            "__________________________________________________________________________________________________\n",
            "conv1d_23 (Conv1D)              (None, 171, 100)     150100      embedding_23[0][0]               \n",
            "__________________________________________________________________________________________________\n",
            "conv1d_24 (Conv1D)              (None, 161, 100)     450100      embedding_24[0][0]               \n",
            "__________________________________________________________________________________________________\n",
            "conv1d_25 (Conv1D)              (None, 146, 100)     900100      embedding_25[0][0]               \n",
            "__________________________________________________________________________________________________\n",
            "max_pooling1d_23 (MaxPooling1D) (None, 85, 100)      0           conv1d_23[0][0]                  \n",
            "__________________________________________________________________________________________________\n",
            "max_pooling1d_24 (MaxPooling1D) (None, 80, 100)      0           conv1d_24[0][0]                  \n",
            "__________________________________________________________________________________________________\n",
            "max_pooling1d_25 (MaxPooling1D) (None, 73, 100)      0           conv1d_25[0][0]                  \n",
            "__________________________________________________________________________________________________\n",
            "flatten_23 (Flatten)            (None, 8500)         0           max_pooling1d_23[0][0]           \n",
            "__________________________________________________________________________________________________\n",
            "flatten_24 (Flatten)            (None, 8000)         0           max_pooling1d_24[0][0]           \n",
            "__________________________________________________________________________________________________\n",
            "flatten_25 (Flatten)            (None, 7300)         0           max_pooling1d_25[0][0]           \n",
            "__________________________________________________________________________________________________\n",
            "concatenate_8 (Concatenate)     (None, 23800)        0           flatten_23[0][0]                 \n",
            "                                                                 flatten_24[0][0]                 \n",
            "                                                                 flatten_25[0][0]                 \n",
            "__________________________________________________________________________________________________\n",
            "dropout_8 (Dropout)             (None, 23800)        0           concatenate_8[0][0]              \n",
            "__________________________________________________________________________________________________\n",
            "dense_8 (Dense)                 (None, 1)            23801       dropout_8[0][0]                  \n",
            "==================================================================================================\n",
            "Total params: 10,524,101\n",
            "Trainable params: 10,524,101\n",
            "Non-trainable params: 0\n",
            "__________________________________________________________________________________________________\n",
            "None\n",
            "Train on 186708 samples, validate on 46677 samples\n",
            "Epoch 1/5\n",
            "  1152/186708 [..............................] - ETA: 8:10 - loss: 0.5842 - acc: 0.6936"
          ],
          "name": "stdout"
        },
        {
          "output_type": "stream",
          "text": [
            "186688/186708 [============================>.] - ETA: 0s - loss: 0.5276 - acc: 0.7486"
          ],
          "name": "stdout"
        },
        {
          "output_type": "stream",
          "text": [
            "186708/186708 [==============================] - 272s 1ms/step - loss: 0.5277 - acc: 0.7486 - val_loss: 0.5224 - val_acc: 0.7550\n",
            "Epoch 2/5\n",
            " 28224/186708 [===>..........................] - ETA: 3:33 - loss: 0.4575 - acc: 0.7981"
          ],
          "name": "stdout"
        },
        {
          "output_type": "stream",
          "text": [
            "186688/186708 [============================>.] - ETA: 0s - loss: 0.4761 - acc: 0.7858"
          ],
          "name": "stdout"
        },
        {
          "output_type": "stream",
          "text": [
            "186708/186708 [==============================] - 269s 1ms/step - loss: 0.4761 - acc: 0.7858 - val_loss: 0.5476 - val_acc: 0.7486\n",
            "Epoch 3/5\n",
            " 28224/186708 [===>..........................] - ETA: 3:28 - loss: 0.3197 - acc: 0.8732"
          ],
          "name": "stdout"
        },
        {
          "output_type": "stream",
          "text": [
            "186688/186708 [============================>.] - ETA: 0s - loss: 0.3499 - acc: 0.8547"
          ],
          "name": "stdout"
        },
        {
          "output_type": "stream",
          "text": [
            "186708/186708 [==============================] - 264s 1ms/step - loss: 0.3499 - acc: 0.8547 - val_loss: 0.6505 - val_acc: 0.7320\n",
            "Epoch 4/5\n",
            " 28224/186708 [===>..........................] - ETA: 3:29 - loss: 0.2113 - acc: 0.9194"
          ],
          "name": "stdout"
        },
        {
          "output_type": "stream",
          "text": [
            "186688/186708 [============================>.] - ETA: 0s - loss: 0.2409 - acc: 0.9056"
          ],
          "name": "stdout"
        },
        {
          "output_type": "stream",
          "text": [
            "186708/186708 [==============================] - 269s 1ms/step - loss: 0.2409 - acc: 0.9056 - val_loss: 0.8299 - val_acc: 0.7221\n",
            "Epoch 5/5\n",
            " 28224/186708 [===>..........................] - ETA: 3:31 - loss: 0.1507 - acc: 0.9438"
          ],
          "name": "stdout"
        },
        {
          "output_type": "stream",
          "text": [
            "186688/186708 [============================>.] - ETA: 0s - loss: 0.1818 - acc: 0.9311"
          ],
          "name": "stdout"
        },
        {
          "output_type": "stream",
          "text": [
            "\b\b\b\b\b\b\b\b\b\b\b\b\b\b\b\b\b\b\b\b\b\b\b\b\b\b\b\b\b\b\b\b\b\b\b\b\b\b\b\b\b\b\b\b\b\b\b\b\b\b\b\b\b\b\b\b\b\b\b\b\b\b\b\b\b\b\b\b\b\b\b\b\b\b\b\b\b\b\b\b\b\b\b\b\b\r186708/186708 [==============================] - 270s 1ms/step - loss: 0.1818 - acc: 0.9311 - val_loss: 1.0360 - val_acc: 0.7203\n",
            "Accuracy score: 0.7135199753200678\n",
            "========================================================\n",
            "Dropout rate: 0.4\n",
            "========================================================\n",
            "__________________________________________________________________________________________________\n",
            "Layer (type)                    Output Shape         Param #     Connected to                     \n",
            "==================================================================================================\n",
            "input_26 (InputLayer)           (None, 175)          0                                            \n",
            "__________________________________________________________________________________________________\n",
            "input_27 (InputLayer)           (None, 175)          0                                            \n",
            "__________________________________________________________________________________________________\n",
            "input_28 (InputLayer)           (None, 175)          0                                            \n",
            "__________________________________________________________________________________________________\n",
            "embedding_26 (Embedding)        (None, 175, 300)     3000000     input_26[0][0]                   \n",
            "__________________________________________________________________________________________________\n",
            "embedding_27 (Embedding)        (None, 175, 300)     3000000     input_27[0][0]                   \n",
            "__________________________________________________________________________________________________\n",
            "embedding_28 (Embedding)        (None, 175, 300)     3000000     input_28[0][0]                   \n",
            "__________________________________________________________________________________________________\n",
            "conv1d_26 (Conv1D)              (None, 171, 100)     150100      embedding_26[0][0]               \n",
            "__________________________________________________________________________________________________\n",
            "conv1d_27 (Conv1D)              (None, 161, 100)     450100      embedding_27[0][0]               \n",
            "__________________________________________________________________________________________________\n",
            "conv1d_28 (Conv1D)              (None, 146, 100)     900100      embedding_28[0][0]               \n",
            "__________________________________________________________________________________________________\n",
            "max_pooling1d_26 (MaxPooling1D) (None, 85, 100)      0           conv1d_26[0][0]                  \n",
            "__________________________________________________________________________________________________\n",
            "max_pooling1d_27 (MaxPooling1D) (None, 80, 100)      0           conv1d_27[0][0]                  \n",
            "__________________________________________________________________________________________________\n",
            "max_pooling1d_28 (MaxPooling1D) (None, 73, 100)      0           conv1d_28[0][0]                  \n",
            "__________________________________________________________________________________________________\n",
            "flatten_26 (Flatten)            (None, 8500)         0           max_pooling1d_26[0][0]           \n",
            "__________________________________________________________________________________________________\n",
            "flatten_27 (Flatten)            (None, 8000)         0           max_pooling1d_27[0][0]           \n",
            "__________________________________________________________________________________________________\n",
            "flatten_28 (Flatten)            (None, 7300)         0           max_pooling1d_28[0][0]           \n",
            "__________________________________________________________________________________________________\n",
            "concatenate_9 (Concatenate)     (None, 23800)        0           flatten_26[0][0]                 \n",
            "                                                                 flatten_27[0][0]                 \n",
            "                                                                 flatten_28[0][0]                 \n",
            "__________________________________________________________________________________________________\n",
            "dropout_9 (Dropout)             (None, 23800)        0           concatenate_9[0][0]              \n",
            "__________________________________________________________________________________________________\n",
            "dense_9 (Dense)                 (None, 1)            23801       dropout_9[0][0]                  \n",
            "==================================================================================================\n",
            "Total params: 10,524,101\n",
            "Trainable params: 10,524,101\n",
            "Non-trainable params: 0\n",
            "__________________________________________________________________________________________________\n",
            "None\n",
            "Train on 186708 samples, validate on 46677 samples\n",
            "Epoch 1/5\n",
            "  1152/186708 [..............................] - ETA: 9:30 - loss: 0.5826 - acc: 0.7049"
          ],
          "name": "stdout"
        },
        {
          "output_type": "stream",
          "text": [
            "186688/186708 [============================>.] - ETA: 0s - loss: 0.5281 - acc: 0.7475"
          ],
          "name": "stdout"
        },
        {
          "output_type": "stream",
          "text": [
            "186708/186708 [==============================] - 268s 1ms/step - loss: 0.5281 - acc: 0.7475 - val_loss: 0.5162 - val_acc: 0.7565\n",
            "Epoch 2/5\n",
            " 28224/186708 [===>..........................] - ETA: 3:29 - loss: 0.4587 - acc: 0.7975"
          ],
          "name": "stdout"
        },
        {
          "output_type": "stream",
          "text": [
            "186688/186708 [============================>.] - ETA: 0s - loss: 0.4823 - acc: 0.7824"
          ],
          "name": "stdout"
        },
        {
          "output_type": "stream",
          "text": [
            "186708/186708 [==============================] - 269s 1ms/step - loss: 0.4823 - acc: 0.7823 - val_loss: 0.5430 - val_acc: 0.7441\n",
            "Epoch 3/5\n",
            " 28224/186708 [===>..........................] - ETA: 3:32 - loss: 0.3534 - acc: 0.8577"
          ],
          "name": "stdout"
        },
        {
          "output_type": "stream",
          "text": [
            "186688/186708 [============================>.] - ETA: 0s - loss: 0.3821 - acc: 0.8394"
          ],
          "name": "stdout"
        },
        {
          "output_type": "stream",
          "text": [
            "186708/186708 [==============================] - 265s 1ms/step - loss: 0.3822 - acc: 0.8394 - val_loss: 0.6165 - val_acc: 0.7328\n",
            "Epoch 4/5\n",
            " 28224/186708 [===>..........................] - ETA: 3:30 - loss: 0.2588 - acc: 0.8989"
          ],
          "name": "stdout"
        },
        {
          "output_type": "stream",
          "text": [
            "186688/186708 [============================>.] - ETA: 0s - loss: 0.2867 - acc: 0.8856"
          ],
          "name": "stdout"
        },
        {
          "output_type": "stream",
          "text": [
            "186708/186708 [==============================] - 269s 1ms/step - loss: 0.2867 - acc: 0.8856 - val_loss: 0.7516 - val_acc: 0.7358\n",
            "Epoch 5/5\n",
            " 28224/186708 [===>..........................] - ETA: 3:28 - loss: 0.1947 - acc: 0.9259"
          ],
          "name": "stdout"
        },
        {
          "output_type": "stream",
          "text": [
            "186688/186708 [============================>.] - ETA: 0s - loss: 0.2305 - acc: 0.9103"
          ],
          "name": "stdout"
        },
        {
          "output_type": "stream",
          "text": [
            "\b\b\b\b\b\b\b\b\b\b\b\b\b\b\b\b\b\b\b\b\b\b\b\b\b\b\b\b\b\b\b\b\b\b\b\b\b\b\b\b\b\b\b\b\b\b\b\b\b\b\b\b\b\b\b\b\b\b\b\b\b\b\b\b\b\b\b\b\b\b\b\b\b\b\b\b\b\b\b\b\b\b\b\b\b\r186708/186708 [==============================] - 264s 1ms/step - loss: 0.2305 - acc: 0.9103 - val_loss: 0.8727 - val_acc: 0.7252\n",
            "Accuracy score: 0.7158722813512263\n",
            "========================================================\n",
            "Dropout rate: 0.5\n",
            "========================================================\n",
            "__________________________________________________________________________________________________\n",
            "Layer (type)                    Output Shape         Param #     Connected to                     \n",
            "==================================================================================================\n",
            "input_29 (InputLayer)           (None, 175)          0                                            \n",
            "__________________________________________________________________________________________________\n",
            "input_30 (InputLayer)           (None, 175)          0                                            \n",
            "__________________________________________________________________________________________________\n",
            "input_31 (InputLayer)           (None, 175)          0                                            \n",
            "__________________________________________________________________________________________________\n",
            "embedding_29 (Embedding)        (None, 175, 300)     3000000     input_29[0][0]                   \n",
            "__________________________________________________________________________________________________\n",
            "embedding_30 (Embedding)        (None, 175, 300)     3000000     input_30[0][0]                   \n",
            "__________________________________________________________________________________________________\n",
            "embedding_31 (Embedding)        (None, 175, 300)     3000000     input_31[0][0]                   \n",
            "__________________________________________________________________________________________________\n",
            "conv1d_29 (Conv1D)              (None, 171, 100)     150100      embedding_29[0][0]               \n",
            "__________________________________________________________________________________________________\n",
            "conv1d_30 (Conv1D)              (None, 161, 100)     450100      embedding_30[0][0]               \n",
            "__________________________________________________________________________________________________\n",
            "conv1d_31 (Conv1D)              (None, 146, 100)     900100      embedding_31[0][0]               \n",
            "__________________________________________________________________________________________________\n",
            "max_pooling1d_29 (MaxPooling1D) (None, 85, 100)      0           conv1d_29[0][0]                  \n",
            "__________________________________________________________________________________________________\n",
            "max_pooling1d_30 (MaxPooling1D) (None, 80, 100)      0           conv1d_30[0][0]                  \n",
            "__________________________________________________________________________________________________\n",
            "max_pooling1d_31 (MaxPooling1D) (None, 73, 100)      0           conv1d_31[0][0]                  \n",
            "__________________________________________________________________________________________________\n",
            "flatten_29 (Flatten)            (None, 8500)         0           max_pooling1d_29[0][0]           \n",
            "__________________________________________________________________________________________________\n",
            "flatten_30 (Flatten)            (None, 8000)         0           max_pooling1d_30[0][0]           \n",
            "__________________________________________________________________________________________________\n",
            "flatten_31 (Flatten)            (None, 7300)         0           max_pooling1d_31[0][0]           \n",
            "__________________________________________________________________________________________________\n",
            "concatenate_10 (Concatenate)    (None, 23800)        0           flatten_29[0][0]                 \n",
            "                                                                 flatten_30[0][0]                 \n",
            "                                                                 flatten_31[0][0]                 \n",
            "__________________________________________________________________________________________________\n",
            "dropout_10 (Dropout)            (None, 23800)        0           concatenate_10[0][0]             \n",
            "__________________________________________________________________________________________________\n",
            "dense_10 (Dense)                (None, 1)            23801       dropout_10[0][0]                 \n",
            "==================================================================================================\n",
            "Total params: 10,524,101\n",
            "Trainable params: 10,524,101\n",
            "Non-trainable params: 0\n",
            "__________________________________________________________________________________________________\n",
            "None\n",
            "Train on 186708 samples, validate on 46677 samples\n",
            "Epoch 1/5\n",
            "  1152/186708 [..............................] - ETA: 8:51 - loss: 0.6228 - acc: 0.6866"
          ],
          "name": "stdout"
        },
        {
          "output_type": "stream",
          "text": [
            "186688/186708 [============================>.] - ETA: 0s - loss: 0.5300 - acc: 0.7476"
          ],
          "name": "stdout"
        },
        {
          "output_type": "stream",
          "text": [
            "186708/186708 [==============================] - 271s 1ms/step - loss: 0.5300 - acc: 0.7476 - val_loss: 0.5165 - val_acc: 0.7549\n",
            "Epoch 2/5\n",
            " 28224/186708 [===>..........................] - ETA: 3:32 - loss: 0.4652 - acc: 0.7916"
          ],
          "name": "stdout"
        },
        {
          "output_type": "stream",
          "text": [
            "186688/186708 [============================>.] - ETA: 0s - loss: 0.4907 - acc: 0.7765"
          ],
          "name": "stdout"
        },
        {
          "output_type": "stream",
          "text": [
            "186708/186708 [==============================] - 266s 1ms/step - loss: 0.4907 - acc: 0.7765 - val_loss: 0.5350 - val_acc: 0.7462\n",
            "Epoch 3/5\n",
            " 28224/186708 [===>..........................] - ETA: 3:27 - loss: 0.3882 - acc: 0.8362"
          ],
          "name": "stdout"
        },
        {
          "output_type": "stream",
          "text": [
            "186688/186708 [============================>.] - ETA: 0s - loss: 0.4174 - acc: 0.8200"
          ],
          "name": "stdout"
        },
        {
          "output_type": "stream",
          "text": [
            "186708/186708 [==============================] - 264s 1ms/step - loss: 0.4174 - acc: 0.8200 - val_loss: 0.5885 - val_acc: 0.7418\n",
            "Epoch 4/5\n",
            " 28224/186708 [===>..........................] - ETA: 3:32 - loss: 0.3040 - acc: 0.8791"
          ],
          "name": "stdout"
        },
        {
          "output_type": "stream",
          "text": [
            "186688/186708 [============================>.] - ETA: 0s - loss: 0.3394 - acc: 0.8609"
          ],
          "name": "stdout"
        },
        {
          "output_type": "stream",
          "text": [
            "186708/186708 [==============================] - 268s 1ms/step - loss: 0.3394 - acc: 0.8609 - val_loss: 0.6659 - val_acc: 0.7295\n",
            "Epoch 5/5\n",
            " 28224/186708 [===>..........................] - ETA: 3:28 - loss: 0.2456 - acc: 0.9034"
          ],
          "name": "stdout"
        },
        {
          "output_type": "stream",
          "text": [
            "186688/186708 [============================>.] - ETA: 0s - loss: 0.2837 - acc: 0.8864"
          ],
          "name": "stdout"
        },
        {
          "output_type": "stream",
          "text": [
            "\b\b\b\b\b\b\b\b\b\b\b\b\b\b\b\b\b\b\b\b\b\b\b\b\b\b\b\b\b\b\b\b\b\b\b\b\b\b\b\b\b\b\b\b\b\b\b\b\b\b\b\b\b\b\b\b\b\b\b\b\b\b\b\b\b\b\b\b\b\b\b\b\b\b\b\b\b\b\b\b\b\b\b\b\b\r186708/186708 [==============================] - 267s 1ms/step - loss: 0.2837 - acc: 0.8864 - val_loss: 0.8032 - val_acc: 0.7225\n",
            "Accuracy score: 0.7177232762609903\n"
          ],
          "name": "stdout"
        }
      ]
    },
    {
      "metadata": {
        "id": "jq-GvmZuodh9",
        "colab_type": "code",
        "colab": {
          "base_uri": "https://localhost:8080/",
          "height": 4185
        },
        "outputId": "49268223-8268-4e3f-c79a-5b5a1e1ce2a3"
      },
      "cell_type": "code",
      "source": [
        "# Model hyperparameters\n",
        "EMBEDDING_DIM = 300\n",
        "VOCAB_SIZE = 10000\n",
        "NUM_FILTERS = 100\n",
        "FILTER_SIZES = [5, 15, 30]\n",
        "BATCH_SIZE = 64\n",
        "NUM_EPOCHS = 5\n",
        "DROPOUT_RATES = [0.6, 0.7, 0.8, 0.9]\n",
        "\n",
        "\n",
        "for drop in DROPOUT_RATES:\n",
        "    print('========================================================')\n",
        "    print('Dropout rate: {}'.format(drop))\n",
        "    print('========================================================')\n",
        "\n",
        "    inputs = []\n",
        "    channels = []\n",
        "\n",
        "    for filter_size in FILTER_SIZES:\n",
        "        input_ = Input(shape=(MAX_SEQUENCE_LENGTH,))\n",
        "        inputs.append(input_)\n",
        "\n",
        "        channel = Embedding(VOCAB_SIZE, EMBEDDING_DIM,\n",
        "                      input_length=MAX_SEQUENCE_LENGTH,\n",
        "                      trainable=True)(input_)\n",
        "        channel = Conv1D(filters=100, kernel_size=filter_size, padding='valid', \n",
        "                   activation='relu')(channel)\n",
        "        channel = MaxPooling1D(2)(channel)\n",
        "        channel = Flatten()(channel)\n",
        "        channels.append(channel)\n",
        "\n",
        "    merged = concatenate(channels)\n",
        "    merged = Dropout(drop)(merged)\n",
        "    outputs = Dense(1, activation='sigmoid')(merged)\n",
        "\n",
        "    model = Model(inputs=inputs, outputs=outputs)\n",
        "    model.compile(optimizer='adam',\n",
        "                  loss='binary_crossentropy',\n",
        "                  metrics=['accuracy'])\n",
        "\n",
        "\n",
        "    print(model.summary())\n",
        "\n",
        "    model.fit([X_train, X_train, X_train], y_train, epochs=NUM_EPOCHS, \n",
        "              batch_size=BATCH_SIZE, validation_split=0.2)\n",
        "\n",
        "    y_test_pred = model.predict([X_test, X_test, X_test])\n",
        "    acc = accuracy_score(y_test, np.rint(y_test_pred))\n",
        "\n",
        "    print('Accuracy score: {}'.format(acc))"
      ],
      "execution_count": 23,
      "outputs": [
        {
          "output_type": "stream",
          "text": [
            "========================================================\n",
            "Dropout rate: 0.6\n",
            "========================================================\n",
            "__________________________________________________________________________________________________\n",
            "Layer (type)                    Output Shape         Param #     Connected to                     \n",
            "==================================================================================================\n",
            "input_32 (InputLayer)           (None, 175)          0                                            \n",
            "__________________________________________________________________________________________________\n",
            "input_33 (InputLayer)           (None, 175)          0                                            \n",
            "__________________________________________________________________________________________________\n",
            "input_34 (InputLayer)           (None, 175)          0                                            \n",
            "__________________________________________________________________________________________________\n",
            "embedding_32 (Embedding)        (None, 175, 300)     3000000     input_32[0][0]                   \n",
            "__________________________________________________________________________________________________\n",
            "embedding_33 (Embedding)        (None, 175, 300)     3000000     input_33[0][0]                   \n",
            "__________________________________________________________________________________________________\n",
            "embedding_34 (Embedding)        (None, 175, 300)     3000000     input_34[0][0]                   \n",
            "__________________________________________________________________________________________________\n",
            "conv1d_32 (Conv1D)              (None, 171, 100)     150100      embedding_32[0][0]               \n",
            "__________________________________________________________________________________________________\n",
            "conv1d_33 (Conv1D)              (None, 161, 100)     450100      embedding_33[0][0]               \n",
            "__________________________________________________________________________________________________\n",
            "conv1d_34 (Conv1D)              (None, 146, 100)     900100      embedding_34[0][0]               \n",
            "__________________________________________________________________________________________________\n",
            "max_pooling1d_32 (MaxPooling1D) (None, 85, 100)      0           conv1d_32[0][0]                  \n",
            "__________________________________________________________________________________________________\n",
            "max_pooling1d_33 (MaxPooling1D) (None, 80, 100)      0           conv1d_33[0][0]                  \n",
            "__________________________________________________________________________________________________\n",
            "max_pooling1d_34 (MaxPooling1D) (None, 73, 100)      0           conv1d_34[0][0]                  \n",
            "__________________________________________________________________________________________________\n",
            "flatten_32 (Flatten)            (None, 8500)         0           max_pooling1d_32[0][0]           \n",
            "__________________________________________________________________________________________________\n",
            "flatten_33 (Flatten)            (None, 8000)         0           max_pooling1d_33[0][0]           \n",
            "__________________________________________________________________________________________________\n",
            "flatten_34 (Flatten)            (None, 7300)         0           max_pooling1d_34[0][0]           \n",
            "__________________________________________________________________________________________________\n",
            "concatenate_11 (Concatenate)    (None, 23800)        0           flatten_32[0][0]                 \n",
            "                                                                 flatten_33[0][0]                 \n",
            "                                                                 flatten_34[0][0]                 \n",
            "__________________________________________________________________________________________________\n",
            "dropout_11 (Dropout)            (None, 23800)        0           concatenate_11[0][0]             \n",
            "__________________________________________________________________________________________________\n",
            "dense_11 (Dense)                (None, 1)            23801       dropout_11[0][0]                 \n",
            "==================================================================================================\n",
            "Total params: 10,524,101\n",
            "Trainable params: 10,524,101\n",
            "Non-trainable params: 0\n",
            "__________________________________________________________________________________________________\n",
            "None\n",
            "Train on 186708 samples, validate on 46677 samples\n",
            "Epoch 1/5\n",
            "  1280/186708 [..............................] - ETA: 8:25 - loss: 0.5810 - acc: 0.7063"
          ],
          "name": "stdout"
        },
        {
          "output_type": "stream",
          "text": [
            "186688/186708 [============================>.] - ETA: 0s - loss: 0.5323 - acc: 0.7468"
          ],
          "name": "stdout"
        },
        {
          "output_type": "stream",
          "text": [
            "186708/186708 [==============================] - 272s 1ms/step - loss: 0.5323 - acc: 0.7468 - val_loss: 0.5183 - val_acc: 0.7563\n",
            "Epoch 2/5\n",
            " 28224/186708 [===>..........................] - ETA: 3:29 - loss: 0.4775 - acc: 0.7852"
          ],
          "name": "stdout"
        },
        {
          "output_type": "stream",
          "text": [
            "186688/186708 [============================>.] - ETA: 0s - loss: 0.5003 - acc: 0.7709"
          ],
          "name": "stdout"
        },
        {
          "output_type": "stream",
          "text": [
            "186708/186708 [==============================] - 264s 1ms/step - loss: 0.5003 - acc: 0.7709 - val_loss: 0.5264 - val_acc: 0.7503\n",
            "Epoch 3/5\n",
            " 28224/186708 [===>..........................] - ETA: 3:27 - loss: 0.4217 - acc: 0.8189"
          ],
          "name": "stdout"
        },
        {
          "output_type": "stream",
          "text": [
            "186688/186708 [============================>.] - ETA: 0s - loss: 0.4504 - acc: 0.8024"
          ],
          "name": "stdout"
        },
        {
          "output_type": "stream",
          "text": [
            "186708/186708 [==============================] - 264s 1ms/step - loss: 0.4504 - acc: 0.8024 - val_loss: 0.5511 - val_acc: 0.7463\n",
            "Epoch 4/5\n",
            " 28224/186708 [===>..........................] - ETA: 3:31 - loss: 0.3527 - acc: 0.8560"
          ],
          "name": "stdout"
        },
        {
          "output_type": "stream",
          "text": [
            "186688/186708 [============================>.] - ETA: 0s - loss: 0.3903 - acc: 0.8355"
          ],
          "name": "stdout"
        },
        {
          "output_type": "stream",
          "text": [
            "186708/186708 [==============================] - 269s 1ms/step - loss: 0.3903 - acc: 0.8355 - val_loss: 0.6100 - val_acc: 0.7388\n",
            "Epoch 5/5\n",
            " 28224/186708 [===>..........................] - ETA: 3:30 - loss: 0.3052 - acc: 0.8769"
          ],
          "name": "stdout"
        },
        {
          "output_type": "stream",
          "text": [
            "186688/186708 [============================>.] - ETA: 0s - loss: 0.3409 - acc: 0.8599"
          ],
          "name": "stdout"
        },
        {
          "output_type": "stream",
          "text": [
            "\b\b\b\b\b\b\b\b\b\b\b\b\b\b\b\b\b\b\b\b\b\b\b\b\b\b\b\b\b\b\b\b\b\b\b\b\b\b\b\b\b\b\b\b\b\b\b\b\b\b\b\b\b\b\b\b\b\b\b\b\b\b\b\b\b\b\b\b\b\b\b\b\b\b\b\b\b\b\b\b\b\b\b\b\b\r186708/186708 [==============================] - 264s 1ms/step - loss: 0.3409 - acc: 0.8599 - val_loss: 0.6712 - val_acc: 0.7342\n",
            "Accuracy score: 0.7319913620237545\n",
            "========================================================\n",
            "Dropout rate: 0.7\n",
            "========================================================\n",
            "__________________________________________________________________________________________________\n",
            "Layer (type)                    Output Shape         Param #     Connected to                     \n",
            "==================================================================================================\n",
            "input_35 (InputLayer)           (None, 175)          0                                            \n",
            "__________________________________________________________________________________________________\n",
            "input_36 (InputLayer)           (None, 175)          0                                            \n",
            "__________________________________________________________________________________________________\n",
            "input_37 (InputLayer)           (None, 175)          0                                            \n",
            "__________________________________________________________________________________________________\n",
            "embedding_35 (Embedding)        (None, 175, 300)     3000000     input_35[0][0]                   \n",
            "__________________________________________________________________________________________________\n",
            "embedding_36 (Embedding)        (None, 175, 300)     3000000     input_36[0][0]                   \n",
            "__________________________________________________________________________________________________\n",
            "embedding_37 (Embedding)        (None, 175, 300)     3000000     input_37[0][0]                   \n",
            "__________________________________________________________________________________________________\n",
            "conv1d_35 (Conv1D)              (None, 171, 100)     150100      embedding_35[0][0]               \n",
            "__________________________________________________________________________________________________\n",
            "conv1d_36 (Conv1D)              (None, 161, 100)     450100      embedding_36[0][0]               \n",
            "__________________________________________________________________________________________________\n",
            "conv1d_37 (Conv1D)              (None, 146, 100)     900100      embedding_37[0][0]               \n",
            "__________________________________________________________________________________________________\n",
            "max_pooling1d_35 (MaxPooling1D) (None, 85, 100)      0           conv1d_35[0][0]                  \n",
            "__________________________________________________________________________________________________\n",
            "max_pooling1d_36 (MaxPooling1D) (None, 80, 100)      0           conv1d_36[0][0]                  \n",
            "__________________________________________________________________________________________________\n",
            "max_pooling1d_37 (MaxPooling1D) (None, 73, 100)      0           conv1d_37[0][0]                  \n",
            "__________________________________________________________________________________________________\n",
            "flatten_35 (Flatten)            (None, 8500)         0           max_pooling1d_35[0][0]           \n",
            "__________________________________________________________________________________________________\n",
            "flatten_36 (Flatten)            (None, 8000)         0           max_pooling1d_36[0][0]           \n",
            "__________________________________________________________________________________________________\n",
            "flatten_37 (Flatten)            (None, 7300)         0           max_pooling1d_37[0][0]           \n",
            "__________________________________________________________________________________________________\n",
            "concatenate_12 (Concatenate)    (None, 23800)        0           flatten_35[0][0]                 \n",
            "                                                                 flatten_36[0][0]                 \n",
            "                                                                 flatten_37[0][0]                 \n",
            "__________________________________________________________________________________________________\n",
            "dropout_12 (Dropout)            (None, 23800)        0           concatenate_12[0][0]             \n",
            "__________________________________________________________________________________________________\n",
            "dense_12 (Dense)                (None, 1)            23801       dropout_12[0][0]                 \n",
            "==================================================================================================\n",
            "Total params: 10,524,101\n",
            "Trainable params: 10,524,101\n",
            "Non-trainable params: 0\n",
            "__________________________________________________________________________________________________\n",
            "None\n",
            "Train on 186708 samples, validate on 46677 samples\n",
            "Epoch 1/5\n",
            "  1152/186708 [..............................] - ETA: 9:01 - loss: 0.6216 - acc: 0.6589"
          ],
          "name": "stdout"
        },
        {
          "output_type": "stream",
          "text": [
            "186688/186708 [============================>.] - ETA: 0s - loss: 0.5356 - acc: 0.7445"
          ],
          "name": "stdout"
        },
        {
          "output_type": "stream",
          "text": [
            "186708/186708 [==============================] - 272s 1ms/step - loss: 0.5356 - acc: 0.7445 - val_loss: 0.5201 - val_acc: 0.7566\n",
            "Epoch 2/5\n",
            " 28224/186708 [===>..........................] - ETA: 3:33 - loss: 0.4850 - acc: 0.7804"
          ],
          "name": "stdout"
        },
        {
          "output_type": "stream",
          "text": [
            "186688/186708 [============================>.] - ETA: 0s - loss: 0.5086 - acc: 0.7660"
          ],
          "name": "stdout"
        },
        {
          "output_type": "stream",
          "text": [
            "186708/186708 [==============================] - 267s 1ms/step - loss: 0.5086 - acc: 0.7660 - val_loss: 0.5247 - val_acc: 0.7539\n",
            "Epoch 3/5\n",
            " 28224/186708 [===>..........................] - ETA: 3:27 - loss: 0.4604 - acc: 0.7968"
          ],
          "name": "stdout"
        },
        {
          "output_type": "stream",
          "text": [
            "186688/186708 [============================>.] - ETA: 0s - loss: 0.4811 - acc: 0.7839"
          ],
          "name": "stdout"
        },
        {
          "output_type": "stream",
          "text": [
            "186708/186708 [==============================] - 265s 1ms/step - loss: 0.4812 - acc: 0.7839 - val_loss: 0.5401 - val_acc: 0.7496\n",
            "Epoch 4/5\n",
            " 28224/186708 [===>..........................] - ETA: 3:32 - loss: 0.4204 - acc: 0.8186"
          ],
          "name": "stdout"
        },
        {
          "output_type": "stream",
          "text": [
            "186688/186708 [============================>.] - ETA: 0s - loss: 0.4465 - acc: 0.8052"
          ],
          "name": "stdout"
        },
        {
          "output_type": "stream",
          "text": [
            "186708/186708 [==============================] - 268s 1ms/step - loss: 0.4465 - acc: 0.8052 - val_loss: 0.5676 - val_acc: 0.7446\n",
            "Epoch 5/5\n",
            " 28224/186708 [===>..........................] - ETA: 3:28 - loss: 0.3869 - acc: 0.8372"
          ],
          "name": "stdout"
        },
        {
          "output_type": "stream",
          "text": [
            "186688/186708 [============================>.] - ETA: 0s - loss: 0.4115 - acc: 0.8254"
          ],
          "name": "stdout"
        },
        {
          "output_type": "stream",
          "text": [
            "\b\b\b\b\b\b\b\b\b\b\b\b\b\b\b\b\b\b\b\b\b\b\b\b\b\b\b\b\b\b\b\b\b\b\b\b\b\b\b\b\b\b\b\b\b\b\b\b\b\b\b\b\b\b\b\b\b\b\b\b\b\b\b\b\b\b\b\b\b\b\b\b\b\b\b\b\b\b\b\b\b\b\b\b\b\r186708/186708 [==============================] - 264s 1ms/step - loss: 0.4116 - acc: 0.8254 - val_loss: 0.5970 - val_acc: 0.7424\n",
            "Accuracy score: 0.7427117075428042\n",
            "========================================================\n",
            "Dropout rate: 0.8\n",
            "========================================================\n",
            "__________________________________________________________________________________________________\n",
            "Layer (type)                    Output Shape         Param #     Connected to                     \n",
            "==================================================================================================\n",
            "input_38 (InputLayer)           (None, 175)          0                                            \n",
            "__________________________________________________________________________________________________\n",
            "input_39 (InputLayer)           (None, 175)          0                                            \n",
            "__________________________________________________________________________________________________\n",
            "input_40 (InputLayer)           (None, 175)          0                                            \n",
            "__________________________________________________________________________________________________\n",
            "embedding_38 (Embedding)        (None, 175, 300)     3000000     input_38[0][0]                   \n",
            "__________________________________________________________________________________________________\n",
            "embedding_39 (Embedding)        (None, 175, 300)     3000000     input_39[0][0]                   \n",
            "__________________________________________________________________________________________________\n",
            "embedding_40 (Embedding)        (None, 175, 300)     3000000     input_40[0][0]                   \n",
            "__________________________________________________________________________________________________\n",
            "conv1d_38 (Conv1D)              (None, 171, 100)     150100      embedding_38[0][0]               \n",
            "__________________________________________________________________________________________________\n",
            "conv1d_39 (Conv1D)              (None, 161, 100)     450100      embedding_39[0][0]               \n",
            "__________________________________________________________________________________________________\n",
            "conv1d_40 (Conv1D)              (None, 146, 100)     900100      embedding_40[0][0]               \n",
            "__________________________________________________________________________________________________\n",
            "max_pooling1d_38 (MaxPooling1D) (None, 85, 100)      0           conv1d_38[0][0]                  \n",
            "__________________________________________________________________________________________________\n",
            "max_pooling1d_39 (MaxPooling1D) (None, 80, 100)      0           conv1d_39[0][0]                  \n",
            "__________________________________________________________________________________________________\n",
            "max_pooling1d_40 (MaxPooling1D) (None, 73, 100)      0           conv1d_40[0][0]                  \n",
            "__________________________________________________________________________________________________\n",
            "flatten_38 (Flatten)            (None, 8500)         0           max_pooling1d_38[0][0]           \n",
            "__________________________________________________________________________________________________\n",
            "flatten_39 (Flatten)            (None, 8000)         0           max_pooling1d_39[0][0]           \n",
            "__________________________________________________________________________________________________\n",
            "flatten_40 (Flatten)            (None, 7300)         0           max_pooling1d_40[0][0]           \n",
            "__________________________________________________________________________________________________\n",
            "concatenate_13 (Concatenate)    (None, 23800)        0           flatten_38[0][0]                 \n",
            "                                                                 flatten_39[0][0]                 \n",
            "                                                                 flatten_40[0][0]                 \n",
            "__________________________________________________________________________________________________\n",
            "dropout_13 (Dropout)            (None, 23800)        0           concatenate_13[0][0]             \n",
            "__________________________________________________________________________________________________\n",
            "dense_13 (Dense)                (None, 1)            23801       dropout_13[0][0]                 \n",
            "==================================================================================================\n",
            "Total params: 10,524,101\n",
            "Trainable params: 10,524,101\n",
            "Non-trainable params: 0\n",
            "__________________________________________________________________________________________________\n",
            "None\n",
            "Train on 186708 samples, validate on 46677 samples\n",
            "Epoch 1/5\n",
            "  1088/186708 [..............................] - ETA: 9:47 - loss: 0.5958 - acc: 0.7013 "
          ],
          "name": "stdout"
        },
        {
          "output_type": "stream",
          "text": [
            "186688/186708 [============================>.] - ETA: 0s - loss: 0.5387 - acc: 0.7433"
          ],
          "name": "stdout"
        },
        {
          "output_type": "stream",
          "text": [
            "186708/186708 [==============================] - 271s 1ms/step - loss: 0.5388 - acc: 0.7433 - val_loss: 0.5172 - val_acc: 0.7552\n",
            "Epoch 2/5\n",
            " 28224/186708 [===>..........................] - ETA: 3:31 - loss: 0.5016 - acc: 0.7696"
          ],
          "name": "stdout"
        },
        {
          "output_type": "stream",
          "text": [
            "186688/186708 [============================>.] - ETA: 0s - loss: 0.5182 - acc: 0.7597"
          ],
          "name": "stdout"
        },
        {
          "output_type": "stream",
          "text": [
            "186708/186708 [==============================] - 268s 1ms/step - loss: 0.5182 - acc: 0.7597 - val_loss: 0.5269 - val_acc: 0.7540\n",
            "Epoch 3/5\n",
            " 28224/186708 [===>..........................] - ETA: 3:27 - loss: 0.4847 - acc: 0.7823"
          ],
          "name": "stdout"
        },
        {
          "output_type": "stream",
          "text": [
            "186688/186708 [============================>.] - ETA: 0s - loss: 0.5035 - acc: 0.7694"
          ],
          "name": "stdout"
        },
        {
          "output_type": "stream",
          "text": [
            "186708/186708 [==============================] - 263s 1ms/step - loss: 0.5035 - acc: 0.7694 - val_loss: 0.5373 - val_acc: 0.7505\n",
            "Epoch 4/5\n",
            " 28224/186708 [===>..........................] - ETA: 3:30 - loss: 0.4693 - acc: 0.7889"
          ],
          "name": "stdout"
        },
        {
          "output_type": "stream",
          "text": [
            "165824/186708 [=========================>....] - ETA: 27s - loss: 0.4886 - acc: 0.7799"
          ],
          "name": "stdout"
        },
        {
          "output_type": "stream",
          "text": [
            "186708/186708 [==============================] - 269s 1ms/step - loss: 0.4905 - acc: 0.7789 - val_loss: 0.5437 - val_acc: 0.7501\n",
            "Epoch 5/5\n",
            " 20288/186708 [==>...........................] - ETA: 3:41 - loss: 0.4510 - acc: 0.8006"
          ],
          "name": "stdout"
        },
        {
          "output_type": "stream",
          "text": [
            "186688/186708 [============================>.] - ETA: 0s - loss: 0.4770 - acc: 0.7877"
          ],
          "name": "stdout"
        },
        {
          "output_type": "stream",
          "text": [
            "\b\b\b\b\b\b\b\b\b\b\b\b\b\b\b\b\b\b\b\b\b\b\b\b\b\b\b\b\b\b\b\b\b\b\b\b\b\b\b\b\b\b\b\b\b\b\b\b\b\b\b\b\b\b\b\b\b\b\b\b\b\b\b\b\b\b\b\b\b\b\b\b\b\b\b\b\b\b\b\b\b\b\b\b\b\r186708/186708 [==============================] - 264s 1ms/step - loss: 0.4770 - acc: 0.7877 - val_loss: 0.5562 - val_acc: 0.7497\n",
            "Accuracy score: 0.7447555144223353\n",
            "========================================================\n",
            "Dropout rate: 0.9\n",
            "========================================================\n",
            "__________________________________________________________________________________________________\n",
            "Layer (type)                    Output Shape         Param #     Connected to                     \n",
            "==================================================================================================\n",
            "input_41 (InputLayer)           (None, 175)          0                                            \n",
            "__________________________________________________________________________________________________\n",
            "input_42 (InputLayer)           (None, 175)          0                                            \n",
            "__________________________________________________________________________________________________\n",
            "input_43 (InputLayer)           (None, 175)          0                                            \n",
            "__________________________________________________________________________________________________\n",
            "embedding_41 (Embedding)        (None, 175, 300)     3000000     input_41[0][0]                   \n",
            "__________________________________________________________________________________________________\n",
            "embedding_42 (Embedding)        (None, 175, 300)     3000000     input_42[0][0]                   \n",
            "__________________________________________________________________________________________________\n",
            "embedding_43 (Embedding)        (None, 175, 300)     3000000     input_43[0][0]                   \n",
            "__________________________________________________________________________________________________\n",
            "conv1d_41 (Conv1D)              (None, 171, 100)     150100      embedding_41[0][0]               \n",
            "__________________________________________________________________________________________________\n",
            "conv1d_42 (Conv1D)              (None, 161, 100)     450100      embedding_42[0][0]               \n",
            "__________________________________________________________________________________________________\n",
            "conv1d_43 (Conv1D)              (None, 146, 100)     900100      embedding_43[0][0]               \n",
            "__________________________________________________________________________________________________\n",
            "max_pooling1d_41 (MaxPooling1D) (None, 85, 100)      0           conv1d_41[0][0]                  \n",
            "__________________________________________________________________________________________________\n",
            "max_pooling1d_42 (MaxPooling1D) (None, 80, 100)      0           conv1d_42[0][0]                  \n",
            "__________________________________________________________________________________________________\n",
            "max_pooling1d_43 (MaxPooling1D) (None, 73, 100)      0           conv1d_43[0][0]                  \n",
            "__________________________________________________________________________________________________\n",
            "flatten_41 (Flatten)            (None, 8500)         0           max_pooling1d_41[0][0]           \n",
            "__________________________________________________________________________________________________\n",
            "flatten_42 (Flatten)            (None, 8000)         0           max_pooling1d_42[0][0]           \n",
            "__________________________________________________________________________________________________\n",
            "flatten_43 (Flatten)            (None, 7300)         0           max_pooling1d_43[0][0]           \n",
            "__________________________________________________________________________________________________\n",
            "concatenate_14 (Concatenate)    (None, 23800)        0           flatten_41[0][0]                 \n",
            "                                                                 flatten_42[0][0]                 \n",
            "                                                                 flatten_43[0][0]                 \n",
            "__________________________________________________________________________________________________\n",
            "dropout_14 (Dropout)            (None, 23800)        0           concatenate_14[0][0]             \n",
            "__________________________________________________________________________________________________\n",
            "dense_14 (Dense)                (None, 1)            23801       dropout_14[0][0]                 \n",
            "==================================================================================================\n",
            "Total params: 10,524,101\n",
            "Trainable params: 10,524,101\n",
            "Non-trainable params: 0\n",
            "__________________________________________________________________________________________________\n",
            "None\n",
            "Train on 186708 samples, validate on 46677 samples\n",
            "Epoch 1/5\n",
            "  1152/186708 [..............................] - ETA: 9:38 - loss: 0.6013 - acc: 0.6970"
          ],
          "name": "stdout"
        },
        {
          "output_type": "stream",
          "text": [
            "186688/186708 [============================>.] - ETA: 0s - loss: 0.5482 - acc: 0.7382"
          ],
          "name": "stdout"
        },
        {
          "output_type": "stream",
          "text": [
            "186708/186708 [==============================] - 271s 1ms/step - loss: 0.5482 - acc: 0.7382 - val_loss: 0.5226 - val_acc: 0.7543\n",
            "Epoch 2/5\n",
            " 28224/186708 [===>..........................] - ETA: 3:29 - loss: 0.5247 - acc: 0.7562"
          ],
          "name": "stdout"
        },
        {
          "output_type": "stream",
          "text": [
            "186688/186708 [============================>.] - ETA: 0s - loss: 0.5346 - acc: 0.7502"
          ],
          "name": "stdout"
        },
        {
          "output_type": "stream",
          "text": [
            "186708/186708 [==============================] - 263s 1ms/step - loss: 0.5345 - acc: 0.7502 - val_loss: 0.5285 - val_acc: 0.7523\n",
            "Epoch 3/5\n",
            " 28224/186708 [===>..........................] - ETA: 3:27 - loss: 0.5215 - acc: 0.7581"
          ],
          "name": "stdout"
        },
        {
          "output_type": "stream",
          "text": [
            "186688/186708 [============================>.] - ETA: 0s - loss: 0.5290 - acc: 0.7558"
          ],
          "name": "stdout"
        },
        {
          "output_type": "stream",
          "text": [
            "186708/186708 [==============================] - 267s 1ms/step - loss: 0.5290 - acc: 0.7558 - val_loss: 0.5395 - val_acc: 0.7511\n",
            "Epoch 4/5\n",
            " 28224/186708 [===>..........................] - ETA: 3:29 - loss: 0.5239 - acc: 0.7609"
          ],
          "name": "stdout"
        },
        {
          "output_type": "stream",
          "text": [
            "186688/186708 [============================>.] - ETA: 0s - loss: 0.5272 - acc: 0.7585"
          ],
          "name": "stdout"
        },
        {
          "output_type": "stream",
          "text": [
            "186708/186708 [==============================] - 268s 1ms/step - loss: 0.5272 - acc: 0.7585 - val_loss: 0.5406 - val_acc: 0.7487\n",
            "Epoch 5/5\n",
            " 28224/186708 [===>..........................] - ETA: 3:27 - loss: 0.5167 - acc: 0.7636"
          ],
          "name": "stdout"
        },
        {
          "output_type": "stream",
          "text": [
            "186688/186708 [============================>.] - ETA: 0s - loss: 0.5235 - acc: 0.7606"
          ],
          "name": "stdout"
        },
        {
          "output_type": "stream",
          "text": [
            "\b\b\b\b\b\b\b\b\b\b\b\b\b\b\b\b\b\b\b\b\b\b\b\b\b\b\b\b\b\b\b\b\b\b\b\b\b\b\b\b\b\b\b\b\b\b\b\b\b\b\b\b\b\b\b\b\b\b\b\b\b\b\b\b\b\b\b\b\b\b\b\b\b\b\b\b\b\b\b\b\b\b\b\b\b\r186708/186708 [==============================] - 263s 1ms/step - loss: 0.5235 - acc: 0.7606 - val_loss: 0.5437 - val_acc: 0.7521\n",
            "Accuracy score: 0.7453339503316366\n"
          ],
          "name": "stdout"
        }
      ]
    },
    {
      "metadata": {
        "id": "Q3QJJ5tspjK_",
        "colab_type": "code",
        "colab": {
          "base_uri": "https://localhost:8080/",
          "height": 2944
        },
        "outputId": "77be3b5d-3d1c-4918-c2d9-8c3e035d4d3a"
      },
      "cell_type": "code",
      "source": [
        "# Experiment with different numbers of filters\n",
        "EMBEDDING_DIM = 300\n",
        "VOCAB_SIZE = 10000\n",
        "NUM_FILTERS = [100, 200, 400]\n",
        "FILTER_SIZES = [5, 15, 30]\n",
        "BATCH_SIZE = 64\n",
        "NUM_EPOCHS = 3\n",
        "\n",
        "\n",
        "for num_filters in NUM_FILTERS:\n",
        "    print('========================================================')\n",
        "    print('Number of filters: {}'.format(num_filters))\n",
        "    print('========================================================')\n",
        "\n",
        "    inputs = []\n",
        "    channels = []\n",
        "\n",
        "    for filter_size in FILTER_SIZES:\n",
        "        input_ = Input(shape=(MAX_SEQUENCE_LENGTH,))\n",
        "        inputs.append(input_)\n",
        "\n",
        "        channel = Embedding(VOCAB_SIZE, EMBEDDING_DIM,\n",
        "                      input_length=MAX_SEQUENCE_LENGTH,\n",
        "                      trainable=True)(input_)\n",
        "        channel = Conv1D(filters=num_filters, kernel_size=filter_size, padding='valid', \n",
        "                   activation='relu')(channel)\n",
        "        channel = MaxPooling1D(2)(channel)\n",
        "        channel = Flatten()(channel)\n",
        "        channels.append(channel)\n",
        "\n",
        "    merged = concatenate(channels)\n",
        "    merged = Dropout(0.9)(merged)\n",
        "    outputs = Dense(1, activation='sigmoid')(merged)\n",
        "\n",
        "    model = Model(inputs=inputs, outputs=outputs)\n",
        "    model.compile(optimizer='adam',\n",
        "                  loss='binary_crossentropy',\n",
        "                  metrics=['accuracy'])\n",
        "\n",
        "\n",
        "    print(model.summary())\n",
        "\n",
        "    model.fit([X_train, X_train, X_train], y_train, epochs=NUM_EPOCHS, \n",
        "              batch_size=BATCH_SIZE, validation_split=0.2)\n",
        "\n",
        "    y_test_pred = model.predict([X_test, X_test, X_test])\n",
        "    acc = accuracy_score(y_test, np.rint(y_test_pred))\n",
        "\n",
        "    print('Accuracy score: {}'.format(acc))"
      ],
      "execution_count": 29,
      "outputs": [
        {
          "output_type": "stream",
          "text": [
            "========================================================\n",
            "Number of filters: 100\n",
            "========================================================\n",
            "__________________________________________________________________________________________________\n",
            "Layer (type)                    Output Shape         Param #     Connected to                     \n",
            "==================================================================================================\n",
            "input_45 (InputLayer)           (None, 175)          0                                            \n",
            "__________________________________________________________________________________________________\n",
            "input_46 (InputLayer)           (None, 175)          0                                            \n",
            "__________________________________________________________________________________________________\n",
            "input_47 (InputLayer)           (None, 175)          0                                            \n",
            "__________________________________________________________________________________________________\n",
            "embedding_45 (Embedding)        (None, 175, 300)     3000000     input_45[0][0]                   \n",
            "__________________________________________________________________________________________________\n",
            "embedding_46 (Embedding)        (None, 175, 300)     3000000     input_46[0][0]                   \n",
            "__________________________________________________________________________________________________\n",
            "embedding_47 (Embedding)        (None, 175, 300)     3000000     input_47[0][0]                   \n",
            "__________________________________________________________________________________________________\n",
            "conv1d_45 (Conv1D)              (None, 171, 100)     150100      embedding_45[0][0]               \n",
            "__________________________________________________________________________________________________\n",
            "conv1d_46 (Conv1D)              (None, 161, 100)     450100      embedding_46[0][0]               \n",
            "__________________________________________________________________________________________________\n",
            "conv1d_47 (Conv1D)              (None, 146, 100)     900100      embedding_47[0][0]               \n",
            "__________________________________________________________________________________________________\n",
            "max_pooling1d_45 (MaxPooling1D) (None, 85, 100)      0           conv1d_45[0][0]                  \n",
            "__________________________________________________________________________________________________\n",
            "max_pooling1d_46 (MaxPooling1D) (None, 80, 100)      0           conv1d_46[0][0]                  \n",
            "__________________________________________________________________________________________________\n",
            "max_pooling1d_47 (MaxPooling1D) (None, 73, 100)      0           conv1d_47[0][0]                  \n",
            "__________________________________________________________________________________________________\n",
            "flatten_45 (Flatten)            (None, 8500)         0           max_pooling1d_45[0][0]           \n",
            "__________________________________________________________________________________________________\n",
            "flatten_46 (Flatten)            (None, 8000)         0           max_pooling1d_46[0][0]           \n",
            "__________________________________________________________________________________________________\n",
            "flatten_47 (Flatten)            (None, 7300)         0           max_pooling1d_47[0][0]           \n",
            "__________________________________________________________________________________________________\n",
            "concatenate_16 (Concatenate)    (None, 23800)        0           flatten_45[0][0]                 \n",
            "                                                                 flatten_46[0][0]                 \n",
            "                                                                 flatten_47[0][0]                 \n",
            "__________________________________________________________________________________________________\n",
            "dropout_15 (Dropout)            (None, 23800)        0           concatenate_16[0][0]             \n",
            "__________________________________________________________________________________________________\n",
            "dense_15 (Dense)                (None, 1)            23801       dropout_15[0][0]                 \n",
            "==================================================================================================\n",
            "Total params: 10,524,101\n",
            "Trainable params: 10,524,101\n",
            "Non-trainable params: 0\n",
            "__________________________________________________________________________________________________\n",
            "None\n",
            "Train on 186708 samples, validate on 46677 samples\n",
            "Epoch 1/3\n",
            "  1280/186708 [..............................] - ETA: 10:00 - loss: 0.5999 - acc: 0.7047"
          ],
          "name": "stdout"
        },
        {
          "output_type": "stream",
          "text": [
            "186688/186708 [============================>.] - ETA: 0s - loss: 0.5495 - acc: 0.7376"
          ],
          "name": "stdout"
        },
        {
          "output_type": "stream",
          "text": [
            "186708/186708 [==============================] - 273s 1ms/step - loss: 0.5495 - acc: 0.7376 - val_loss: 0.5225 - val_acc: 0.7526\n",
            "Epoch 2/3\n",
            " 28224/186708 [===>..........................] - ETA: 3:29 - loss: 0.5240 - acc: 0.7577"
          ],
          "name": "stdout"
        },
        {
          "output_type": "stream",
          "text": [
            "186688/186708 [============================>.] - ETA: 0s - loss: 0.5344 - acc: 0.7501"
          ],
          "name": "stdout"
        },
        {
          "output_type": "stream",
          "text": [
            "186708/186708 [==============================] - 264s 1ms/step - loss: 0.5344 - acc: 0.7501 - val_loss: 0.5250 - val_acc: 0.7522\n",
            "Epoch 3/3\n",
            " 28224/186708 [===>..........................] - ETA: 3:31 - loss: 0.5168 - acc: 0.7588"
          ],
          "name": "stdout"
        },
        {
          "output_type": "stream",
          "text": [
            "186688/186708 [============================>.] - ETA: 0s - loss: 0.5300 - acc: 0.7543"
          ],
          "name": "stdout"
        },
        {
          "output_type": "stream",
          "text": [
            "\b\b\b\b\b\b\b\b\b\b\b\b\b\b\b\b\b\b\b\b\b\b\b\b\b\b\b\b\b\b\b\b\b\b\b\b\b\b\b\b\b\b\b\b\b\b\b\b\b\b\b\b\b\b\b\b\b\b\b\b\b\b\b\b\b\b\b\b\b\b\b\b\b\b\b\b\b\b\b\b\b\b\b\b\b\r186708/186708 [==============================] - 266s 1ms/step - loss: 0.5300 - acc: 0.7543 - val_loss: 0.5329 - val_acc: 0.7476\n",
            "Accuracy score: 0.7445627024525683\n",
            "========================================================\n",
            "Number of filters: 200\n",
            "========================================================\n",
            "__________________________________________________________________________________________________\n",
            "Layer (type)                    Output Shape         Param #     Connected to                     \n",
            "==================================================================================================\n",
            "input_48 (InputLayer)           (None, 175)          0                                            \n",
            "__________________________________________________________________________________________________\n",
            "input_49 (InputLayer)           (None, 175)          0                                            \n",
            "__________________________________________________________________________________________________\n",
            "input_50 (InputLayer)           (None, 175)          0                                            \n",
            "__________________________________________________________________________________________________\n",
            "embedding_48 (Embedding)        (None, 175, 300)     3000000     input_48[0][0]                   \n",
            "__________________________________________________________________________________________________\n",
            "embedding_49 (Embedding)        (None, 175, 300)     3000000     input_49[0][0]                   \n",
            "__________________________________________________________________________________________________\n",
            "embedding_50 (Embedding)        (None, 175, 300)     3000000     input_50[0][0]                   \n",
            "__________________________________________________________________________________________________\n",
            "conv1d_48 (Conv1D)              (None, 171, 200)     300200      embedding_48[0][0]               \n",
            "__________________________________________________________________________________________________\n",
            "conv1d_49 (Conv1D)              (None, 161, 200)     900200      embedding_49[0][0]               \n",
            "__________________________________________________________________________________________________\n",
            "conv1d_50 (Conv1D)              (None, 146, 200)     1800200     embedding_50[0][0]               \n",
            "__________________________________________________________________________________________________\n",
            "max_pooling1d_48 (MaxPooling1D) (None, 85, 200)      0           conv1d_48[0][0]                  \n",
            "__________________________________________________________________________________________________\n",
            "max_pooling1d_49 (MaxPooling1D) (None, 80, 200)      0           conv1d_49[0][0]                  \n",
            "__________________________________________________________________________________________________\n",
            "max_pooling1d_50 (MaxPooling1D) (None, 73, 200)      0           conv1d_50[0][0]                  \n",
            "__________________________________________________________________________________________________\n",
            "flatten_48 (Flatten)            (None, 17000)        0           max_pooling1d_48[0][0]           \n",
            "__________________________________________________________________________________________________\n",
            "flatten_49 (Flatten)            (None, 16000)        0           max_pooling1d_49[0][0]           \n",
            "__________________________________________________________________________________________________\n",
            "flatten_50 (Flatten)            (None, 14600)        0           max_pooling1d_50[0][0]           \n",
            "__________________________________________________________________________________________________\n",
            "concatenate_17 (Concatenate)    (None, 47600)        0           flatten_48[0][0]                 \n",
            "                                                                 flatten_49[0][0]                 \n",
            "                                                                 flatten_50[0][0]                 \n",
            "__________________________________________________________________________________________________\n",
            "dropout_16 (Dropout)            (None, 47600)        0           concatenate_17[0][0]             \n",
            "__________________________________________________________________________________________________\n",
            "dense_16 (Dense)                (None, 1)            47601       dropout_16[0][0]                 \n",
            "==================================================================================================\n",
            "Total params: 12,048,201\n",
            "Trainable params: 12,048,201\n",
            "Non-trainable params: 0\n",
            "__________________________________________________________________________________________________\n",
            "None\n",
            "Train on 186708 samples, validate on 46677 samples\n",
            "Epoch 1/3\n",
            "  1152/186708 [..............................] - ETA: 13:45 - loss: 0.6019 - acc: 0.6936"
          ],
          "name": "stdout"
        },
        {
          "output_type": "stream",
          "text": [
            "186688/186708 [============================>.] - ETA: 0s - loss: 0.5539 - acc: 0.7362"
          ],
          "name": "stdout"
        },
        {
          "output_type": "stream",
          "text": [
            "186708/186708 [==============================] - 420s 2ms/step - loss: 0.5539 - acc: 0.7362 - val_loss: 0.5211 - val_acc: 0.7540\n",
            "Epoch 2/3\n",
            " 28224/186708 [===>..........................] - ETA: 5:22 - loss: 0.5179 - acc: 0.7623"
          ],
          "name": "stdout"
        },
        {
          "output_type": "stream",
          "text": [
            "186688/186708 [============================>.] - ETA: 0s - loss: 0.5376 - acc: 0.7489"
          ],
          "name": "stdout"
        },
        {
          "output_type": "stream",
          "text": [
            "186708/186708 [==============================] - 416s 2ms/step - loss: 0.5376 - acc: 0.7489 - val_loss: 0.5254 - val_acc: 0.7540\n",
            "Epoch 3/3\n",
            " 28224/186708 [===>..........................] - ETA: 5:20 - loss: 0.5170 - acc: 0.7610"
          ],
          "name": "stdout"
        },
        {
          "output_type": "stream",
          "text": [
            "186688/186708 [============================>.] - ETA: 0s - loss: 0.5302 - acc: 0.7546"
          ],
          "name": "stdout"
        },
        {
          "output_type": "stream",
          "text": [
            "\b\b\b\b\b\b\b\b\b\b\b\b\b\b\b\b\b\b\b\b\b\b\b\b\b\b\b\b\b\b\b\b\b\b\b\b\b\b\b\b\b\b\b\b\b\b\b\b\b\b\b\b\b\b\b\b\b\b\b\b\b\b\b\b\b\b\b\b\b\b\b\b\b\b\b\b\b\b\b\b\b\b\b\b\b\r186708/186708 [==============================] - 415s 2ms/step - loss: 0.5302 - acc: 0.7546 - val_loss: 0.5339 - val_acc: 0.7497\n",
            "Accuracy score: 0.7448712016041956\n",
            "========================================================\n",
            "Number of filters: 400\n",
            "========================================================\n",
            "__________________________________________________________________________________________________\n",
            "Layer (type)                    Output Shape         Param #     Connected to                     \n",
            "==================================================================================================\n",
            "input_51 (InputLayer)           (None, 175)          0                                            \n",
            "__________________________________________________________________________________________________\n",
            "input_52 (InputLayer)           (None, 175)          0                                            \n",
            "__________________________________________________________________________________________________\n",
            "input_53 (InputLayer)           (None, 175)          0                                            \n",
            "__________________________________________________________________________________________________\n",
            "embedding_51 (Embedding)        (None, 175, 300)     3000000     input_51[0][0]                   \n",
            "__________________________________________________________________________________________________\n",
            "embedding_52 (Embedding)        (None, 175, 300)     3000000     input_52[0][0]                   \n",
            "__________________________________________________________________________________________________\n",
            "embedding_53 (Embedding)        (None, 175, 300)     3000000     input_53[0][0]                   \n",
            "__________________________________________________________________________________________________\n",
            "conv1d_51 (Conv1D)              (None, 171, 400)     600400      embedding_51[0][0]               \n",
            "__________________________________________________________________________________________________\n",
            "conv1d_52 (Conv1D)              (None, 161, 400)     1800400     embedding_52[0][0]               \n",
            "__________________________________________________________________________________________________\n",
            "conv1d_53 (Conv1D)              (None, 146, 400)     3600400     embedding_53[0][0]               \n",
            "__________________________________________________________________________________________________\n",
            "max_pooling1d_51 (MaxPooling1D) (None, 85, 400)      0           conv1d_51[0][0]                  \n",
            "__________________________________________________________________________________________________\n",
            "max_pooling1d_52 (MaxPooling1D) (None, 80, 400)      0           conv1d_52[0][0]                  \n",
            "__________________________________________________________________________________________________\n",
            "max_pooling1d_53 (MaxPooling1D) (None, 73, 400)      0           conv1d_53[0][0]                  \n",
            "__________________________________________________________________________________________________\n",
            "flatten_51 (Flatten)            (None, 34000)        0           max_pooling1d_51[0][0]           \n",
            "__________________________________________________________________________________________________\n",
            "flatten_52 (Flatten)            (None, 32000)        0           max_pooling1d_52[0][0]           \n",
            "__________________________________________________________________________________________________\n",
            "flatten_53 (Flatten)            (None, 29200)        0           max_pooling1d_53[0][0]           \n",
            "__________________________________________________________________________________________________\n",
            "concatenate_18 (Concatenate)    (None, 95200)        0           flatten_51[0][0]                 \n",
            "                                                                 flatten_52[0][0]                 \n",
            "                                                                 flatten_53[0][0]                 \n",
            "__________________________________________________________________________________________________\n",
            "dropout_17 (Dropout)            (None, 95200)        0           concatenate_18[0][0]             \n",
            "__________________________________________________________________________________________________\n",
            "dense_17 (Dense)                (None, 1)            95201       dropout_17[0][0]                 \n",
            "==================================================================================================\n",
            "Total params: 15,096,401\n",
            "Trainable params: 15,096,401\n",
            "Non-trainable params: 0\n",
            "__________________________________________________________________________________________________\n",
            "None\n",
            "Train on 186708 samples, validate on 46677 samples\n",
            "Epoch 1/3\n",
            "  1152/186708 [..............................] - ETA: 21:33 - loss: 0.5937 - acc: 0.6970"
          ],
          "name": "stdout"
        },
        {
          "output_type": "stream",
          "text": [
            "186688/186708 [============================>.] - ETA: 0s - loss: 0.5585 - acc: 0.7339"
          ],
          "name": "stdout"
        },
        {
          "output_type": "stream",
          "text": [
            "\b\b\b\b\b\b\b\b\b\b\b\b\b\b\b\b\b\b\b\b\b\b\b\b\b\b\b\b\b\b\b\b\b\b\b\b\b\b\b\b\b\b\b\b\b\b\b\b\b\b\b\b\b\b\b\b\b\b\b\b\b\b\b\b\b\b\b\b\b\b\b\b\b\b\b\b\b\b\b\b\b\b\b\b\b\r186708/186708 [==============================] - 788s 4ms/step - loss: 0.5585 - acc: 0.7339 - val_loss: 0.5206 - val_acc: 0.7545\n",
            "Epoch 2/3\n",
            " 20352/186708 [==>...........................] - ETA: 10:38 - loss: 0.5256 - acc: 0.7549"
          ],
          "name": "stdout"
        },
        {
          "output_type": "stream",
          "text": [
            "186688/186708 [============================>.] - ETA: 0s - loss: 0.5397 - acc: 0.7482"
          ],
          "name": "stdout"
        },
        {
          "output_type": "stream",
          "text": [
            "\b\b\b\b\b\b\b\b\b\b\b\b\b\b\b\b\b\b\b\b\b\b\b\b\b\b\b\b\b\b\b\b\b\b\b\b\b\b\b\b\b\b\b\b\b\b\b\b\b\b\b\b\b\b\b\b\b\b\b\b\b\b\b\b\b\b\b\b\b\b\b\b\b\b\b\b\b\b\b\b\b\b\b\b\b\r186708/186708 [==============================] - 774s 4ms/step - loss: 0.5398 - acc: 0.7482 - val_loss: 0.5257 - val_acc: 0.7499\n",
            "Epoch 3/3\n",
            " 20352/186708 [==>...........................] - ETA: 10:41 - loss: 0.5203 - acc: 0.7589"
          ],
          "name": "stdout"
        },
        {
          "output_type": "stream",
          "text": [
            "186688/186708 [============================>.] - ETA: 0s - loss: 0.5345 - acc: 0.7538"
          ],
          "name": "stdout"
        },
        {
          "output_type": "stream",
          "text": [
            "\b\b\b\b\b\b\b\b\b\b\b\b\b\b\b\b\b\b\b\b\b\b\b\b\b\b\b\b\b\b\b\b\b\b\b\b\b\b\b\b\b\b\b\b\b\b\b\b\b\b\b\b\b\b\b\b\b\b\b\b\b\b\b\b\b\b\b\b\b\b\b\b\b\b\b\b\b\b\b\b\b\b\b\b\b\r186708/186708 [==============================] - 776s 4ms/step - loss: 0.5345 - acc: 0.7538 - val_loss: 0.5336 - val_acc: 0.7465\n",
            "Accuracy score: 0.7428659571186179\n"
          ],
          "name": "stdout"
        }
      ]
    },
    {
      "metadata": {
        "id": "GLO5xZKzL1Qm",
        "colab_type": "code",
        "colab": {
          "base_uri": "https://localhost:8080/",
          "height": 2944
        },
        "outputId": "99c843ee-c71d-46b0-8077-7ab69ea50999"
      },
      "cell_type": "code",
      "source": [
        "# Experiment with different numbers of filters\n",
        "EMBEDDING_DIM = 300\n",
        "VOCAB_SIZE = 10000\n",
        "NUM_FILTERS = [10, 25, 50]\n",
        "FILTER_SIZES = [5, 15, 30]\n",
        "BATCH_SIZE = 64\n",
        "NUM_EPOCHS = 3\n",
        "\n",
        "\n",
        "for num_filters in NUM_FILTERS:\n",
        "    print('========================================================')\n",
        "    print('Number of filters: {}'.format(num_filters))\n",
        "    print('========================================================')\n",
        "\n",
        "    inputs = []\n",
        "    channels = []\n",
        "\n",
        "    for filter_size in FILTER_SIZES:\n",
        "        input_ = Input(shape=(MAX_SEQUENCE_LENGTH,))\n",
        "        inputs.append(input_)\n",
        "\n",
        "        channel = Embedding(VOCAB_SIZE, EMBEDDING_DIM,\n",
        "                      input_length=MAX_SEQUENCE_LENGTH,\n",
        "                      trainable=True)(input_)\n",
        "        channel = Conv1D(filters=num_filters, kernel_size=filter_size, padding='valid', \n",
        "                   activation='relu')(channel)\n",
        "        channel = MaxPooling1D(2)(channel)\n",
        "        channel = Flatten()(channel)\n",
        "        channels.append(channel)\n",
        "\n",
        "    merged = concatenate(channels)\n",
        "    merged = Dropout(0.9)(merged)\n",
        "    outputs = Dense(1, activation='sigmoid')(merged)\n",
        "\n",
        "    model = Model(inputs=inputs, outputs=outputs)\n",
        "    model.compile(optimizer='adam',\n",
        "                  loss='binary_crossentropy',\n",
        "                  metrics=['accuracy'])\n",
        "\n",
        "\n",
        "    print(model.summary())\n",
        "\n",
        "    model.fit([X_train, X_train, X_train], y_train, epochs=NUM_EPOCHS, \n",
        "              batch_size=BATCH_SIZE, validation_split=0.2)\n",
        "\n",
        "    y_test_pred = model.predict([X_test, X_test, X_test])\n",
        "    acc = accuracy_score(y_test, np.rint(y_test_pred))\n",
        "\n",
        "    print('Accuracy score: {}'.format(acc))"
      ],
      "execution_count": 30,
      "outputs": [
        {
          "output_type": "stream",
          "text": [
            "========================================================\n",
            "Number of filters: 10\n",
            "========================================================\n",
            "__________________________________________________________________________________________________\n",
            "Layer (type)                    Output Shape         Param #     Connected to                     \n",
            "==================================================================================================\n",
            "input_54 (InputLayer)           (None, 175)          0                                            \n",
            "__________________________________________________________________________________________________\n",
            "input_55 (InputLayer)           (None, 175)          0                                            \n",
            "__________________________________________________________________________________________________\n",
            "input_56 (InputLayer)           (None, 175)          0                                            \n",
            "__________________________________________________________________________________________________\n",
            "embedding_54 (Embedding)        (None, 175, 300)     3000000     input_54[0][0]                   \n",
            "__________________________________________________________________________________________________\n",
            "embedding_55 (Embedding)        (None, 175, 300)     3000000     input_55[0][0]                   \n",
            "__________________________________________________________________________________________________\n",
            "embedding_56 (Embedding)        (None, 175, 300)     3000000     input_56[0][0]                   \n",
            "__________________________________________________________________________________________________\n",
            "conv1d_54 (Conv1D)              (None, 171, 10)      15010       embedding_54[0][0]               \n",
            "__________________________________________________________________________________________________\n",
            "conv1d_55 (Conv1D)              (None, 161, 10)      45010       embedding_55[0][0]               \n",
            "__________________________________________________________________________________________________\n",
            "conv1d_56 (Conv1D)              (None, 146, 10)      90010       embedding_56[0][0]               \n",
            "__________________________________________________________________________________________________\n",
            "max_pooling1d_54 (MaxPooling1D) (None, 85, 10)       0           conv1d_54[0][0]                  \n",
            "__________________________________________________________________________________________________\n",
            "max_pooling1d_55 (MaxPooling1D) (None, 80, 10)       0           conv1d_55[0][0]                  \n",
            "__________________________________________________________________________________________________\n",
            "max_pooling1d_56 (MaxPooling1D) (None, 73, 10)       0           conv1d_56[0][0]                  \n",
            "__________________________________________________________________________________________________\n",
            "flatten_54 (Flatten)            (None, 850)          0           max_pooling1d_54[0][0]           \n",
            "__________________________________________________________________________________________________\n",
            "flatten_55 (Flatten)            (None, 800)          0           max_pooling1d_55[0][0]           \n",
            "__________________________________________________________________________________________________\n",
            "flatten_56 (Flatten)            (None, 730)          0           max_pooling1d_56[0][0]           \n",
            "__________________________________________________________________________________________________\n",
            "concatenate_19 (Concatenate)    (None, 2380)         0           flatten_54[0][0]                 \n",
            "                                                                 flatten_55[0][0]                 \n",
            "                                                                 flatten_56[0][0]                 \n",
            "__________________________________________________________________________________________________\n",
            "dropout_18 (Dropout)            (None, 2380)         0           concatenate_19[0][0]             \n",
            "__________________________________________________________________________________________________\n",
            "dense_18 (Dense)                (None, 1)            2381        dropout_18[0][0]                 \n",
            "==================================================================================================\n",
            "Total params: 9,152,411\n",
            "Trainable params: 9,152,411\n",
            "Non-trainable params: 0\n",
            "__________________________________________________________________________________________________\n",
            "None\n",
            "Train on 186708 samples, validate on 46677 samples\n",
            "Epoch 1/3\n",
            "  1856/186708 [..............................] - ETA: 6:13 - loss: 0.6167 - acc: 0.6848"
          ],
          "name": "stdout"
        },
        {
          "output_type": "stream",
          "text": [
            "186624/186708 [============================>.] - ETA: 0s - loss: 0.5460 - acc: 0.7404"
          ],
          "name": "stdout"
        },
        {
          "output_type": "stream",
          "text": [
            "186708/186708 [==============================] - 141s 756us/step - loss: 0.5460 - acc: 0.7404 - val_loss: 0.5223 - val_acc: 0.7502\n",
            "Epoch 2/3\n",
            " 54336/186708 [=======>......................] - ETA: 1:30 - loss: 0.5259 - acc: 0.7571"
          ],
          "name": "stdout"
        },
        {
          "output_type": "stream",
          "text": [
            "186708/186708 [==============================] - 136s 729us/step - loss: 0.5316 - acc: 0.7517 - val_loss: 0.5237 - val_acc: 0.7519\n",
            "Epoch 3/3\n",
            "  5056/186708 [..............................] - ETA: 2:03 - loss: 0.5250 - acc: 0.7565"
          ],
          "name": "stdout"
        },
        {
          "output_type": "stream",
          "text": [
            "186688/186708 [============================>.] - ETA: 0s - loss: 0.5264 - acc: 0.7558"
          ],
          "name": "stdout"
        },
        {
          "output_type": "stream",
          "text": [
            "\b\b\b\b\b\b\b\b\b\b\b\b\b\b\b\b\b\b\b\b\b\b\b\b\b\b\b\b\b\b\b\b\b\b\b\b\b\b\b\b\b\b\b\b\b\b\b\b\b\b\b\b\b\b\b\b\b\b\b\b\b\b\b\b\b\b\b\b\b\b\b\b\b\b\b\b\b\b\b\b\b\b\b\b\b\r186708/186708 [==============================] - 141s 756us/step - loss: 0.5264 - acc: 0.7558 - val_loss: 0.5282 - val_acc: 0.7518\n",
            "Accuracy score: 0.7482261298781429\n",
            "========================================================\n",
            "Number of filters: 25\n",
            "========================================================\n",
            "__________________________________________________________________________________________________\n",
            "Layer (type)                    Output Shape         Param #     Connected to                     \n",
            "==================================================================================================\n",
            "input_57 (InputLayer)           (None, 175)          0                                            \n",
            "__________________________________________________________________________________________________\n",
            "input_58 (InputLayer)           (None, 175)          0                                            \n",
            "__________________________________________________________________________________________________\n",
            "input_59 (InputLayer)           (None, 175)          0                                            \n",
            "__________________________________________________________________________________________________\n",
            "embedding_57 (Embedding)        (None, 175, 300)     3000000     input_57[0][0]                   \n",
            "__________________________________________________________________________________________________\n",
            "embedding_58 (Embedding)        (None, 175, 300)     3000000     input_58[0][0]                   \n",
            "__________________________________________________________________________________________________\n",
            "embedding_59 (Embedding)        (None, 175, 300)     3000000     input_59[0][0]                   \n",
            "__________________________________________________________________________________________________\n",
            "conv1d_57 (Conv1D)              (None, 171, 25)      37525       embedding_57[0][0]               \n",
            "__________________________________________________________________________________________________\n",
            "conv1d_58 (Conv1D)              (None, 161, 25)      112525      embedding_58[0][0]               \n",
            "__________________________________________________________________________________________________\n",
            "conv1d_59 (Conv1D)              (None, 146, 25)      225025      embedding_59[0][0]               \n",
            "__________________________________________________________________________________________________\n",
            "max_pooling1d_57 (MaxPooling1D) (None, 85, 25)       0           conv1d_57[0][0]                  \n",
            "__________________________________________________________________________________________________\n",
            "max_pooling1d_58 (MaxPooling1D) (None, 80, 25)       0           conv1d_58[0][0]                  \n",
            "__________________________________________________________________________________________________\n",
            "max_pooling1d_59 (MaxPooling1D) (None, 73, 25)       0           conv1d_59[0][0]                  \n",
            "__________________________________________________________________________________________________\n",
            "flatten_57 (Flatten)            (None, 2125)         0           max_pooling1d_57[0][0]           \n",
            "__________________________________________________________________________________________________\n",
            "flatten_58 (Flatten)            (None, 2000)         0           max_pooling1d_58[0][0]           \n",
            "__________________________________________________________________________________________________\n",
            "flatten_59 (Flatten)            (None, 1825)         0           max_pooling1d_59[0][0]           \n",
            "__________________________________________________________________________________________________\n",
            "concatenate_20 (Concatenate)    (None, 5950)         0           flatten_57[0][0]                 \n",
            "                                                                 flatten_58[0][0]                 \n",
            "                                                                 flatten_59[0][0]                 \n",
            "__________________________________________________________________________________________________\n",
            "dropout_19 (Dropout)            (None, 5950)         0           concatenate_20[0][0]             \n",
            "__________________________________________________________________________________________________\n",
            "dense_19 (Dense)                (None, 1)            5951        dropout_19[0][0]                 \n",
            "==================================================================================================\n",
            "Total params: 9,381,026\n",
            "Trainable params: 9,381,026\n",
            "Non-trainable params: 0\n",
            "__________________________________________________________________________________________________\n",
            "None\n",
            "Train on 186708 samples, validate on 46677 samples\n",
            "Epoch 1/3\n",
            "  1408/186708 [..............................] - ETA: 8:20 - loss: 0.6063 - acc: 0.7060"
          ],
          "name": "stdout"
        },
        {
          "output_type": "stream",
          "text": [
            "186624/186708 [============================>.] - ETA: 0s - loss: 0.5444 - acc: 0.7408"
          ],
          "name": "stdout"
        },
        {
          "output_type": "stream",
          "text": [
            "186708/186708 [==============================] - 151s 807us/step - loss: 0.5444 - acc: 0.7408 - val_loss: 0.5209 - val_acc: 0.7505\n",
            "Epoch 2/3\n",
            " 52608/186708 [=======>......................] - ETA: 1:36 - loss: 0.5233 - acc: 0.7571"
          ],
          "name": "stdout"
        },
        {
          "output_type": "stream",
          "text": [
            "186624/186708 [============================>.] - ETA: 0s - loss: 0.5298 - acc: 0.7526"
          ],
          "name": "stdout"
        },
        {
          "output_type": "stream",
          "text": [
            "186708/186708 [==============================] - 146s 782us/step - loss: 0.5298 - acc: 0.7526 - val_loss: 0.5208 - val_acc: 0.7539\n",
            "Epoch 3/3\n",
            " 48832/186708 [======>.......................] - ETA: 1:41 - loss: 0.5169 - acc: 0.7609"
          ],
          "name": "stdout"
        },
        {
          "output_type": "stream",
          "text": [
            "186688/186708 [============================>.] - ETA: 0s - loss: 0.5237 - acc: 0.7577"
          ],
          "name": "stdout"
        },
        {
          "output_type": "stream",
          "text": [
            "\b\b\b\b\b\b\b\b\b\b\b\b\b\b\b\b\b\b\b\b\b\b\b\b\b\b\b\b\b\b\b\b\b\b\b\b\b\b\b\b\b\b\b\b\b\b\b\b\b\b\b\b\b\b\b\b\b\b\b\b\b\b\b\b\b\b\b\b\b\b\b\b\b\b\b\b\b\b\b\b\b\b\b\b\b\r186708/186708 [==============================] - 147s 786us/step - loss: 0.5237 - acc: 0.7577 - val_loss: 0.5265 - val_acc: 0.7500\n",
            "Accuracy score: 0.7450640135739627\n",
            "========================================================\n",
            "Number of filters: 50\n",
            "========================================================\n",
            "__________________________________________________________________________________________________\n",
            "Layer (type)                    Output Shape         Param #     Connected to                     \n",
            "==================================================================================================\n",
            "input_60 (InputLayer)           (None, 175)          0                                            \n",
            "__________________________________________________________________________________________________\n",
            "input_61 (InputLayer)           (None, 175)          0                                            \n",
            "__________________________________________________________________________________________________\n",
            "input_62 (InputLayer)           (None, 175)          0                                            \n",
            "__________________________________________________________________________________________________\n",
            "embedding_60 (Embedding)        (None, 175, 300)     3000000     input_60[0][0]                   \n",
            "__________________________________________________________________________________________________\n",
            "embedding_61 (Embedding)        (None, 175, 300)     3000000     input_61[0][0]                   \n",
            "__________________________________________________________________________________________________\n",
            "embedding_62 (Embedding)        (None, 175, 300)     3000000     input_62[0][0]                   \n",
            "__________________________________________________________________________________________________\n",
            "conv1d_60 (Conv1D)              (None, 171, 50)      75050       embedding_60[0][0]               \n",
            "__________________________________________________________________________________________________\n",
            "conv1d_61 (Conv1D)              (None, 161, 50)      225050      embedding_61[0][0]               \n",
            "__________________________________________________________________________________________________\n",
            "conv1d_62 (Conv1D)              (None, 146, 50)      450050      embedding_62[0][0]               \n",
            "__________________________________________________________________________________________________\n",
            "max_pooling1d_60 (MaxPooling1D) (None, 85, 50)       0           conv1d_60[0][0]                  \n",
            "__________________________________________________________________________________________________\n",
            "max_pooling1d_61 (MaxPooling1D) (None, 80, 50)       0           conv1d_61[0][0]                  \n",
            "__________________________________________________________________________________________________\n",
            "max_pooling1d_62 (MaxPooling1D) (None, 73, 50)       0           conv1d_62[0][0]                  \n",
            "__________________________________________________________________________________________________\n",
            "flatten_60 (Flatten)            (None, 4250)         0           max_pooling1d_60[0][0]           \n",
            "__________________________________________________________________________________________________\n",
            "flatten_61 (Flatten)            (None, 4000)         0           max_pooling1d_61[0][0]           \n",
            "__________________________________________________________________________________________________\n",
            "flatten_62 (Flatten)            (None, 3650)         0           max_pooling1d_62[0][0]           \n",
            "__________________________________________________________________________________________________\n",
            "concatenate_21 (Concatenate)    (None, 11900)        0           flatten_60[0][0]                 \n",
            "                                                                 flatten_61[0][0]                 \n",
            "                                                                 flatten_62[0][0]                 \n",
            "__________________________________________________________________________________________________\n",
            "dropout_20 (Dropout)            (None, 11900)        0           concatenate_21[0][0]             \n",
            "__________________________________________________________________________________________________\n",
            "dense_20 (Dense)                (None, 1)            11901       dropout_20[0][0]                 \n",
            "==================================================================================================\n",
            "Total params: 9,762,051\n",
            "Trainable params: 9,762,051\n",
            "Non-trainable params: 0\n",
            "__________________________________________________________________________________________________\n",
            "None\n",
            "Train on 186708 samples, validate on 46677 samples\n",
            "Epoch 1/3\n",
            "  1152/186708 [..............................] - ETA: 11:14 - loss: 0.6295 - acc: 0.6554"
          ],
          "name": "stdout"
        },
        {
          "output_type": "stream",
          "text": [
            " 70080/186708 [==========>...................] - ETA: 2:09 - loss: 0.5522 - acc: 0.7344"
          ],
          "name": "stdout"
        },
        {
          "output_type": "stream",
          "text": [
            "140928/186708 [=====================>........] - ETA: 49s - loss: 0.5469 - acc: 0.7388"
          ],
          "name": "stdout"
        },
        {
          "output_type": "stream",
          "text": [
            "186708/186708 [==============================] - 217s 1ms/step - loss: 0.5459 - acc: 0.7393 - val_loss: 0.5195 - val_acc: 0.7542\n",
            "Epoch 2/3\n",
            "  7488/186708 [>.............................] - ETA: 3:08 - loss: 0.5237 - acc: 0.7567"
          ],
          "name": "stdout"
        },
        {
          "output_type": "stream",
          "text": [
            " 71040/186708 [==========>...................] - ETA: 2:02 - loss: 0.5255 - acc: 0.7561"
          ],
          "name": "stdout"
        },
        {
          "output_type": "stream",
          "text": [
            "143424/186708 [======================>.......] - ETA: 46s - loss: 0.5301 - acc: 0.7527"
          ],
          "name": "stdout"
        },
        {
          "output_type": "stream",
          "text": [
            "186708/186708 [==============================] - 216s 1ms/step - loss: 0.5325 - acc: 0.7508 - val_loss: 0.5265 - val_acc: 0.7541\n",
            "Epoch 3/3\n",
            " 11072/186708 [>.............................] - ETA: 3:10 - loss: 0.5210 - acc: 0.7572"
          ],
          "name": "stdout"
        },
        {
          "output_type": "stream",
          "text": [
            " 80448/186708 [===========>..................] - ETA: 1:53 - loss: 0.5189 - acc: 0.7607"
          ],
          "name": "stdout"
        },
        {
          "output_type": "stream",
          "text": [
            "151616/186708 [=======================>......] - ETA: 37s - loss: 0.5244 - acc: 0.7569"
          ],
          "name": "stdout"
        },
        {
          "output_type": "stream",
          "text": [
            "186708/186708 [==============================] - 216s 1ms/step - loss: 0.5265 - acc: 0.7558 - val_loss: 0.5303 - val_acc: 0.7523\n",
            "Accuracy score: 0.7467221965139595\n"
          ],
          "name": "stdout"
        }
      ]
    },
    {
      "metadata": {
        "id": "D9RKXzfNmfrq",
        "colab_type": "code",
        "colab": {}
      },
      "cell_type": "code",
      "source": [
        "# Read in the GloVe vectors\n",
        "glove_lines = glove_txt.GetContentString().strip().split('\\n')"
      ],
      "execution_count": 0,
      "outputs": []
    },
    {
      "metadata": {
        "id": "o-pUeI6KmkFK",
        "colab_type": "code",
        "colab": {}
      },
      "cell_type": "code",
      "source": [
        "# Create a dictionary of each word -> vector\n",
        "embeddings_index = {}\n",
        "\n",
        "for line in glove_lines:\n",
        "    values = line.split()\n",
        "    word = values[0]\n",
        "    coefs = np.asarray(values[1:], dtype='float32')\n",
        "    embeddings_index[word] = coefs"
      ],
      "execution_count": 0,
      "outputs": []
    },
    {
      "metadata": {
        "id": "NipFTcMumnVR",
        "colab_type": "code",
        "colab": {}
      },
      "cell_type": "code",
      "source": [
        "# Sanity check: the set of ids == set(range(VOCAB_SIZE))\n",
        "chained = []\n",
        "\n",
        "for seq in sequences:  # Yep I suck with itertools. This is fine, though.\n",
        "  chained += seq\n",
        "\n",
        "distinct_ids = set(chained)\n",
        "\n",
        "assert distinct_ids == set(range(1, VOCAB_SIZE))"
      ],
      "execution_count": 0,
      "outputs": []
    },
    {
      "metadata": {
        "id": "vtaGFjVh72HG",
        "colab_type": "code",
        "colab": {}
      },
      "cell_type": "code",
      "source": [
        "# Assemble the pre-trained embedding matrix using the GloVe vectors\n",
        "word_to_id = tokenizer.word_index\n",
        "id_to_word = dict(zip(word_to_id.values(), word_to_id.keys()))\n",
        "id_to_word[0] = 'UNK'\n",
        "\n",
        "embedding_matrix = np.zeros((VOCAB_SIZE, EMBEDDING_DIM))\n",
        "for i in range(VOCAB_SIZE):\n",
        "    word = id_to_word[i]\n",
        "    embedding_vector = embeddings_index.get(word)\n",
        "    if embedding_vector is not None:\n",
        "        # words not found in embedding index will be all-zeros.\n",
        "        embedding_matrix[i] = embedding_vector\n",
        "        \n",
        "# Sanity check\n",
        "assert embedding_matrix.shape == (VOCAB_SIZE, EMBEDDING_DIM)"
      ],
      "execution_count": 0,
      "outputs": []
    },
    {
      "metadata": {
        "id": "e1dlx-h2TffY",
        "colab_type": "code",
        "colab": {}
      },
      "cell_type": "code",
      "source": [
        ""
      ],
      "execution_count": 0,
      "outputs": []
    },
    {
      "metadata": {
        "id": "qEh7jtOy7gAD",
        "colab_type": "code",
        "colab": {
          "base_uri": "https://localhost:8080/",
          "height": 3281
        },
        "outputId": "1fb29b17-0df8-48aa-9630-0c165ca17893"
      },
      "cell_type": "code",
      "source": [
        "# Experiment with different numbers of filters\n",
        "EMBEDDING_DIM = 300\n",
        "VOCAB_SIZE = 10000\n",
        "NUM_FILTERS = [10]\n",
        "FILTER_SIZES = [1,3,5,7,11,15]\n",
        "BATCH_SIZE = 64\n",
        "NUM_EPOCHS = 5\n",
        "\n",
        "\n",
        "inputs = []\n",
        "channels = []\n",
        "\n",
        "for filter_size in FILTER_SIZES:\n",
        "#     input_ = Input(shape=(MAX_SEQUENCE_LENGTH,))\n",
        "#     inputs.append(input_)\n",
        "\n",
        "    model = Sequential([\n",
        "        Embedding(VOCAB_SIZE, EMBEDDING_DIM,\n",
        "                  weights=[embedding_matrix],\n",
        "                  input_length=MAX_SEQUENCE_LENGTH,\n",
        "                  trainable=True),\n",
        "        Conv1D(100, filter_size, padding='valid', activation='relu'),\n",
        "        MaxPooling1D(2),\n",
        "        Flatten(),\n",
        "        Dropout(0.5),\n",
        "        Dense(1, activation='sigmoid')\n",
        "    ])\n",
        "\n",
        "    model.compile(optimizer='adam',\n",
        "                  loss='binary_crossentropy',\n",
        "                  metrics=['accuracy'])\n",
        "\n",
        "#     channel = Embedding(VOCAB_SIZE, EMBEDDING_DIM,\n",
        "#                   input_length=MAX_SEQUENCE_LENGTH,\n",
        "#                   weights=[embedding_matrix], trainable=True)#(input_)\n",
        "#     channel = Conv1D(filters=100, kernel_size=filter_size, padding='valid', \n",
        "#                activation='relu')(channel)\n",
        "#     channel = MaxPooling1D(2)(channel)\n",
        "#     channel = Flatten()(channel)\n",
        "\n",
        "#     channel = Dropout(0.5)(channel)\n",
        "#     outputs = Dense(1, activation='sigmoid')(channel)\n",
        "\n",
        "#     model = Model(inputs=inputs, outputs=outputs)\n",
        "#     model.compile(optimizer='adam',\n",
        "#                   loss='binary_crossentropy',\n",
        "#                   metrics=['accuracy'])\n",
        "\n",
        "\n",
        "    print(model.summary())\n",
        "\n",
        "    model.fit(X_train, y_train, epochs=NUM_EPOCHS, \n",
        "              batch_size=BATCH_SIZE, validation_split=0.2)\n",
        "\n",
        "    y_test_pred = model.predict(X_test)\n",
        "    acc = accuracy_score(y_test, np.rint(y_test_pred))\n",
        "\n",
        "    print('Accuracy score: {}'.format(acc))"
      ],
      "execution_count": 21,
      "outputs": [
        {
          "output_type": "stream",
          "text": [
            "_________________________________________________________________\n",
            "Layer (type)                 Output Shape              Param #   \n",
            "=================================================================\n",
            "embedding_8 (Embedding)      (None, 175, 300)          3000000   \n",
            "_________________________________________________________________\n",
            "conv1d_8 (Conv1D)            (None, 175, 100)          30100     \n",
            "_________________________________________________________________\n",
            "max_pooling1d_7 (MaxPooling1 (None, 87, 100)           0         \n",
            "_________________________________________________________________\n",
            "flatten_7 (Flatten)          (None, 8700)              0         \n",
            "_________________________________________________________________\n",
            "dropout_7 (Dropout)          (None, 8700)              0         \n",
            "_________________________________________________________________\n",
            "dense_7 (Dense)              (None, 1)                 8701      \n",
            "=================================================================\n",
            "Total params: 3,038,801\n",
            "Trainable params: 3,038,801\n",
            "Non-trainable params: 0\n",
            "_________________________________________________________________\n",
            "None\n",
            "Train on 186708 samples, validate on 46677 samples\n",
            "Epoch 1/5\n",
            "186708/186708 [==============================] - 43s 232us/step - loss: 0.5333 - acc: 0.7443 - val_loss: 0.5163 - val_acc: 0.7564\n",
            "Epoch 2/5\n",
            "186708/186708 [==============================] - 42s 223us/step - loss: 0.5111 - acc: 0.7620 - val_loss: 0.5247 - val_acc: 0.7550\n",
            "Epoch 3/5\n",
            "186708/186708 [==============================] - 42s 223us/step - loss: 0.4980 - acc: 0.7722 - val_loss: 0.5306 - val_acc: 0.7503\n",
            "Epoch 4/5\n",
            "186708/186708 [==============================] - 42s 223us/step - loss: 0.4839 - acc: 0.7815 - val_loss: 0.5410 - val_acc: 0.7489\n",
            "Epoch 5/5\n",
            "186708/186708 [==============================] - 42s 224us/step - loss: 0.4703 - acc: 0.7897 - val_loss: 0.5537 - val_acc: 0.7436\n",
            "Accuracy score: 0.7402051519358321\n",
            "_________________________________________________________________\n",
            "Layer (type)                 Output Shape              Param #   \n",
            "=================================================================\n",
            "embedding_9 (Embedding)      (None, 175, 300)          3000000   \n",
            "_________________________________________________________________\n",
            "conv1d_9 (Conv1D)            (None, 173, 100)          90100     \n",
            "_________________________________________________________________\n",
            "max_pooling1d_8 (MaxPooling1 (None, 86, 100)           0         \n",
            "_________________________________________________________________\n",
            "flatten_8 (Flatten)          (None, 8600)              0         \n",
            "_________________________________________________________________\n",
            "dropout_8 (Dropout)          (None, 8600)              0         \n",
            "_________________________________________________________________\n",
            "dense_8 (Dense)              (None, 1)                 8601      \n",
            "=================================================================\n",
            "Total params: 3,098,701\n",
            "Trainable params: 3,098,701\n",
            "Non-trainable params: 0\n",
            "_________________________________________________________________\n",
            "None\n",
            "Train on 186708 samples, validate on 46677 samples\n",
            "Epoch 1/5\n",
            "186708/186708 [==============================] - 53s 284us/step - loss: 0.5329 - acc: 0.7450 - val_loss: 0.5164 - val_acc: 0.7548\n",
            "Epoch 2/5\n",
            "186708/186708 [==============================] - 51s 273us/step - loss: 0.5109 - acc: 0.7619 - val_loss: 0.5192 - val_acc: 0.7554\n",
            "Epoch 3/5\n",
            "186708/186708 [==============================] - 51s 273us/step - loss: 0.4940 - acc: 0.7735 - val_loss: 0.5269 - val_acc: 0.7526\n",
            "Epoch 4/5\n",
            "186708/186708 [==============================] - 51s 273us/step - loss: 0.4696 - acc: 0.7894 - val_loss: 0.5454 - val_acc: 0.7494\n",
            "Epoch 5/5\n",
            "186708/186708 [==============================] - 51s 274us/step - loss: 0.4429 - acc: 0.8042 - val_loss: 0.5593 - val_acc: 0.7441\n",
            "Accuracy score: 0.7433672682400123\n",
            "_________________________________________________________________\n",
            "Layer (type)                 Output Shape              Param #   \n",
            "=================================================================\n",
            "embedding_10 (Embedding)     (None, 175, 300)          3000000   \n",
            "_________________________________________________________________\n",
            "conv1d_10 (Conv1D)           (None, 171, 100)          150100    \n",
            "_________________________________________________________________\n",
            "max_pooling1d_9 (MaxPooling1 (None, 85, 100)           0         \n",
            "_________________________________________________________________\n",
            "flatten_9 (Flatten)          (None, 8500)              0         \n",
            "_________________________________________________________________\n",
            "dropout_9 (Dropout)          (None, 8500)              0         \n",
            "_________________________________________________________________\n",
            "dense_9 (Dense)              (None, 1)                 8501      \n",
            "=================================================================\n",
            "Total params: 3,158,601\n",
            "Trainable params: 3,158,601\n",
            "Non-trainable params: 0\n",
            "_________________________________________________________________\n",
            "None\n",
            "Train on 186708 samples, validate on 46677 samples\n",
            "Epoch 1/5\n",
            "186708/186708 [==============================] - 62s 332us/step - loss: 0.5328 - acc: 0.7447 - val_loss: 0.5190 - val_acc: 0.7548\n",
            "Epoch 2/5\n",
            "186708/186708 [==============================] - 60s 320us/step - loss: 0.5107 - acc: 0.7616 - val_loss: 0.5177 - val_acc: 0.7555\n",
            "Epoch 3/5\n",
            "186708/186708 [==============================] - 60s 321us/step - loss: 0.4952 - acc: 0.7713 - val_loss: 0.5240 - val_acc: 0.7545\n",
            "Epoch 4/5\n",
            "186708/186708 [==============================] - 60s 320us/step - loss: 0.4709 - acc: 0.7877 - val_loss: 0.5376 - val_acc: 0.7505\n",
            "Epoch 5/5\n",
            "186708/186708 [==============================] - 60s 320us/step - loss: 0.4410 - acc: 0.8054 - val_loss: 0.5579 - val_acc: 0.7425\n",
            "Accuracy score: 0.7383927194200216\n",
            "_________________________________________________________________\n",
            "Layer (type)                 Output Shape              Param #   \n",
            "=================================================================\n",
            "embedding_11 (Embedding)     (None, 175, 300)          3000000   \n",
            "_________________________________________________________________\n",
            "conv1d_11 (Conv1D)           (None, 169, 100)          210100    \n",
            "_________________________________________________________________\n",
            "max_pooling1d_10 (MaxPooling (None, 84, 100)           0         \n",
            "_________________________________________________________________\n",
            "flatten_10 (Flatten)         (None, 8400)              0         \n",
            "_________________________________________________________________\n",
            "dropout_10 (Dropout)         (None, 8400)              0         \n",
            "_________________________________________________________________\n",
            "dense_10 (Dense)             (None, 1)                 8401      \n",
            "=================================================================\n",
            "Total params: 3,218,501\n",
            "Trainable params: 3,218,501\n",
            "Non-trainable params: 0\n",
            "_________________________________________________________________\n",
            "None\n",
            "Train on 186708 samples, validate on 46677 samples\n",
            "Epoch 1/5\n",
            "186708/186708 [==============================] - 68s 367us/step - loss: 0.5345 - acc: 0.7435 - val_loss: 0.5173 - val_acc: 0.7549\n",
            "Epoch 2/5\n",
            "186708/186708 [==============================] - 66s 354us/step - loss: 0.5116 - acc: 0.7605 - val_loss: 0.5206 - val_acc: 0.7549\n",
            "Epoch 3/5\n",
            "186708/186708 [==============================] - 66s 354us/step - loss: 0.4939 - acc: 0.7728 - val_loss: 0.5293 - val_acc: 0.7514\n",
            "Epoch 4/5\n",
            "186708/186708 [==============================] - 66s 355us/step - loss: 0.4673 - acc: 0.7894 - val_loss: 0.5505 - val_acc: 0.7484\n",
            "Epoch 5/5\n",
            "186708/186708 [==============================] - 66s 355us/step - loss: 0.4342 - acc: 0.8087 - val_loss: 0.5659 - val_acc: 0.7473\n",
            "Accuracy score: 0.7441385161190807\n",
            "_________________________________________________________________\n",
            "Layer (type)                 Output Shape              Param #   \n",
            "=================================================================\n",
            "embedding_12 (Embedding)     (None, 175, 300)          3000000   \n",
            "_________________________________________________________________\n",
            "conv1d_12 (Conv1D)           (None, 165, 100)          330100    \n",
            "_________________________________________________________________\n",
            "max_pooling1d_11 (MaxPooling (None, 82, 100)           0         \n",
            "_________________________________________________________________\n",
            "flatten_11 (Flatten)         (None, 8200)              0         \n",
            "_________________________________________________________________\n",
            "dropout_11 (Dropout)         (None, 8200)              0         \n",
            "_________________________________________________________________\n",
            "dense_11 (Dense)             (None, 1)                 8201      \n",
            "=================================================================\n",
            "Total params: 3,338,301\n",
            "Trainable params: 3,338,301\n",
            "Non-trainable params: 0\n",
            "_________________________________________________________________\n",
            "None\n",
            "Train on 186708 samples, validate on 46677 samples\n",
            "Epoch 1/5\n",
            "186708/186708 [==============================] - 81s 435us/step - loss: 0.5347 - acc: 0.7433 - val_loss: 0.5208 - val_acc: 0.7530\n",
            "Epoch 2/5\n",
            "186708/186708 [==============================] - 79s 423us/step - loss: 0.5133 - acc: 0.7594 - val_loss: 0.5188 - val_acc: 0.7550\n",
            "Epoch 3/5\n",
            "186708/186708 [==============================] - 79s 423us/step - loss: 0.4952 - acc: 0.7712 - val_loss: 0.5256 - val_acc: 0.7515\n",
            "Epoch 4/5\n",
            "186708/186708 [==============================] - 79s 423us/step - loss: 0.4692 - acc: 0.7868 - val_loss: 0.5473 - val_acc: 0.7488\n",
            "Epoch 5/5\n",
            "186708/186708 [==============================] - 79s 423us/step - loss: 0.4366 - acc: 0.8067 - val_loss: 0.5615 - val_acc: 0.7422\n",
            "Accuracy score: 0.7422103964214098\n",
            "_________________________________________________________________\n",
            "Layer (type)                 Output Shape              Param #   \n",
            "=================================================================\n",
            "embedding_13 (Embedding)     (None, 175, 300)          3000000   \n",
            "_________________________________________________________________\n",
            "conv1d_13 (Conv1D)           (None, 161, 100)          450100    \n",
            "_________________________________________________________________\n",
            "max_pooling1d_12 (MaxPooling (None, 80, 100)           0         \n",
            "_________________________________________________________________\n",
            "flatten_12 (Flatten)         (None, 8000)              0         \n",
            "_________________________________________________________________\n",
            "dropout_12 (Dropout)         (None, 8000)              0         \n",
            "_________________________________________________________________\n",
            "dense_12 (Dense)             (None, 1)                 8001      \n",
            "=================================================================\n",
            "Total params: 3,458,101\n",
            "Trainable params: 3,458,101\n",
            "Non-trainable params: 0\n",
            "_________________________________________________________________\n",
            "None\n",
            "Train on 186708 samples, validate on 46677 samples\n",
            "Epoch 1/5\n",
            "186708/186708 [==============================] - 94s 504us/step - loss: 0.5359 - acc: 0.7425 - val_loss: 0.5163 - val_acc: 0.7557\n",
            "Epoch 2/5\n",
            "186708/186708 [==============================] - 92s 491us/step - loss: 0.5124 - acc: 0.7595 - val_loss: 0.5166 - val_acc: 0.7552\n",
            "Epoch 3/5\n",
            "186708/186708 [==============================] - 91s 490us/step - loss: 0.4951 - acc: 0.7714 - val_loss: 0.5235 - val_acc: 0.7521\n",
            "Epoch 4/5\n",
            "186708/186708 [==============================] - 92s 490us/step - loss: 0.4690 - acc: 0.7872 - val_loss: 0.5445 - val_acc: 0.7494\n",
            "Epoch 5/5\n",
            "186708/186708 [==============================] - 91s 490us/step - loss: 0.4345 - acc: 0.8069 - val_loss: 0.5635 - val_acc: 0.7456\n",
            "Accuracy score: 0.7412463365725744\n"
          ],
          "name": "stdout"
        }
      ]
    },
    {
      "metadata": {
        "id": "2XrNmXo2X2W9",
        "colab_type": "code",
        "colab": {}
      },
      "cell_type": "code",
      "source": [
        "intermediate_layer_model = Model(inputs=model.input,\n",
        "                                 outputs=model.layers[-3].output)"
      ],
      "execution_count": 0,
      "outputs": []
    },
    {
      "metadata": {
        "id": "YoCkpdzMYNKL",
        "colab_type": "code",
        "colab": {}
      },
      "cell_type": "code",
      "source": [
        "intermediate_output = intermediate_layer_model.predict([X_test, X_test, X_test])"
      ],
      "execution_count": 0,
      "outputs": []
    },
    {
      "metadata": {
        "id": "Q2fbKGw1Y-Q6",
        "colab_type": "code",
        "colab": {
          "base_uri": "https://localhost:8080/",
          "height": 34
        },
        "outputId": "0adadd6e-69a3-488c-a51f-950fac1ba2da"
      },
      "cell_type": "code",
      "source": [
        "intermediate_output.shape"
      ],
      "execution_count": 27,
      "outputs": [
        {
          "output_type": "execute_result",
          "data": {
            "text/plain": [
              "(25932, 2380)"
            ]
          },
          "metadata": {
            "tags": []
          },
          "execution_count": 27
        }
      ]
    },
    {
      "metadata": {
        "id": "jne5nckaZO52",
        "colab_type": "code",
        "colab": {}
      },
      "cell_type": "code",
      "source": [
        "from sklearn.decomposition import PCA"
      ],
      "execution_count": 0,
      "outputs": []
    },
    {
      "metadata": {
        "id": "WTXoqS5CZUSC",
        "colab_type": "code",
        "colab": {}
      },
      "cell_type": "code",
      "source": [
        "pca = PCA(2)\n",
        "interm = pca.fit_transform(intermediate_output)"
      ],
      "execution_count": 0,
      "outputs": []
    },
    {
      "metadata": {
        "id": "tmtZnftbZdko",
        "colab_type": "code",
        "colab": {}
      },
      "cell_type": "code",
      "source": [
        "import matplotlib.pyplot as plt\n",
        "%matplotlib inline"
      ],
      "execution_count": 0,
      "outputs": []
    },
    {
      "metadata": {
        "id": "DTALoRPZZ65a",
        "colab_type": "code",
        "colab": {
          "base_uri": "https://localhost:8080/",
          "height": 34
        },
        "outputId": "a1abc0ea-ff90-4a85-b41e-2c399b0ef80b"
      },
      "cell_type": "code",
      "source": [
        "y_test.astype(float)"
      ],
      "execution_count": 34,
      "outputs": [
        {
          "output_type": "execute_result",
          "data": {
            "text/plain": [
              "array([0., 0., 0., ..., 0., 0., 0.])"
            ]
          },
          "metadata": {
            "tags": []
          },
          "execution_count": 34
        }
      ]
    },
    {
      "metadata": {
        "id": "V45c-21nZhW6",
        "colab_type": "code",
        "colab": {
          "base_uri": "https://localhost:8080/",
          "height": 297
        },
        "outputId": "51078ca6-f1d0-46aa-fe03-d861faf3171c"
      },
      "cell_type": "code",
      "source": [
        "nothelpful = plt.scatter(interm[y_test == 0, 0], interm[y_test == 0, 1], c='b')\n",
        "helpful = plt.scatter(interm[y_test == 1, 0], interm[y_test == 1, 1], c='firebrick')\n",
        "plt.legend([nothelpful, helpful], ['Not Helpful', 'Helpful'])\n",
        "plt.title('Reduced Dimensionality of Convolved Features, Colored by Label')"
      ],
      "execution_count": 45,
      "outputs": [
        {
          "output_type": "execute_result",
          "data": {
            "text/plain": [
              "Text(0.5,1,'Reduced Dimensionality of Convolved Features, Colored by Label')"
            ]
          },
          "metadata": {
            "tags": []
          },
          "execution_count": 45
        },
        {
          "output_type": "display_data",
          "data": {
            "image/png": "[encoded data removed]",
            "text/plain": [
              "<matplotlib.figure.Figure at 0x7ff610be4eb8>"
            ]
          },
          "metadata": {
            "tags": []
          }
        }
      ]
    },
    {
      "metadata": {
        "id": "aBZdn_UhanZ0",
        "colab_type": "code",
        "colab": {}
      },
      "cell_type": "code",
      "source": [
        "from keras.datasets import imdb\n",
        "\n",
        "(x_train, y_train), (x_test, y_test) = imdb.load_data(path=\"imdb.npz\",\n",
        "                                                      num_words=VOCAB_SIZE,\n",
        "                                                      skip_top=0,\n",
        "                                                      maxlen=None,\n",
        "                                                      seed=113,\n",
        "                                                      start_char=1,\n",
        "                                                      oov_char=2,\n",
        "                                                      index_from=3)\n",
        "x_train = pad_sequences(x_train, maxlen=MAX_SEQUENCE_LENGTH)\n",
        "x_test = pad_sequences(x_test, maxlen=MAX_SEQUENCE_LENGTH)"
      ],
      "execution_count": 0,
      "outputs": []
    },
    {
      "metadata": {
        "id": "4eecxmxbdWWn",
        "colab_type": "code",
        "colab": {
          "base_uri": "https://localhost:8080/",
          "height": 1003
        },
        "outputId": "1bbbc13d-653c-404d-de86-2f112c80d0e6"
      },
      "cell_type": "code",
      "source": [
        "# Experiment with different numbers of filters\n",
        "EMBEDDING_DIM = 300\n",
        "VOCAB_SIZE = 10000\n",
        "NUM_FILTERS = [10, 25, 50]\n",
        "FILTER_SIZES = [5, 15, 30]\n",
        "BATCH_SIZE = 64\n",
        "NUM_EPOCHS = 5\n",
        "\n",
        "\n",
        "inputs = []\n",
        "channels = []\n",
        "\n",
        "for filter_size in FILTER_SIZES:\n",
        "    input_ = Input(shape=(MAX_SEQUENCE_LENGTH,))\n",
        "    inputs.append(input_)\n",
        "\n",
        "    channel = Embedding(VOCAB_SIZE, EMBEDDING_DIM, input_length=MAX_SEQUENCE_LENGTH,\n",
        "                  weights=[embedding_matrix], trainable=True)(input_)\n",
        "    channel = Conv1D(filters=10, kernel_size=filter_size, padding='valid', \n",
        "               activation='relu')(channel)\n",
        "    channel = MaxPooling1D(2)(channel)\n",
        "    channel = Flatten()(channel)\n",
        "    channels.append(channel)\n",
        "\n",
        "merged = concatenate(channels)\n",
        "merged = Dropout(0.6)(merged)\n",
        "outputs = Dense(1, activation='sigmoid')(merged)\n",
        "\n",
        "imdb_model = Model(inputs=inputs, outputs=outputs)\n",
        "imdb_model.compile(optimizer='adam',\n",
        "              loss='binary_crossentropy',\n",
        "              metrics=['accuracy'])\n",
        "\n",
        "\n",
        "print(model.summary())\n",
        "\n",
        "model.fit([x_train, x_train, x_train], y_train, epochs=NUM_EPOCHS, \n",
        "          batch_size=BATCH_SIZE, validation_split=0.2)\n",
        "\n",
        "y_test_pred = model.predict([x_test, x_test, x_test])\n",
        "acc = accuracy_score(y_test, np.rint(y_test_pred))\n",
        "\n",
        "print('Accuracy score: {}'.format(acc))"
      ],
      "execution_count": 53,
      "outputs": [
        {
          "output_type": "stream",
          "text": [
            "__________________________________________________________________________________________________\n",
            "Layer (type)                    Output Shape         Param #     Connected to                     \n",
            "==================================================================================================\n",
            "input_4 (InputLayer)            (None, 175)          0                                            \n",
            "__________________________________________________________________________________________________\n",
            "input_5 (InputLayer)            (None, 175)          0                                            \n",
            "__________________________________________________________________________________________________\n",
            "input_6 (InputLayer)            (None, 175)          0                                            \n",
            "__________________________________________________________________________________________________\n",
            "embedding_4 (Embedding)         (None, 175, 300)     3000000     input_4[0][0]                    \n",
            "__________________________________________________________________________________________________\n",
            "embedding_5 (Embedding)         (None, 175, 300)     3000000     input_5[0][0]                    \n",
            "__________________________________________________________________________________________________\n",
            "embedding_6 (Embedding)         (None, 175, 300)     3000000     input_6[0][0]                    \n",
            "__________________________________________________________________________________________________\n",
            "conv1d_4 (Conv1D)               (None, 171, 10)      15010       embedding_4[0][0]                \n",
            "__________________________________________________________________________________________________\n",
            "conv1d_5 (Conv1D)               (None, 161, 10)      45010       embedding_5[0][0]                \n",
            "__________________________________________________________________________________________________\n",
            "conv1d_6 (Conv1D)               (None, 146, 10)      90010       embedding_6[0][0]                \n",
            "__________________________________________________________________________________________________\n",
            "max_pooling1d_4 (MaxPooling1D)  (None, 85, 10)       0           conv1d_4[0][0]                   \n",
            "__________________________________________________________________________________________________\n",
            "max_pooling1d_5 (MaxPooling1D)  (None, 80, 10)       0           conv1d_5[0][0]                   \n",
            "__________________________________________________________________________________________________\n",
            "max_pooling1d_6 (MaxPooling1D)  (None, 73, 10)       0           conv1d_6[0][0]                   \n",
            "__________________________________________________________________________________________________\n",
            "flatten_4 (Flatten)             (None, 850)          0           max_pooling1d_4[0][0]            \n",
            "__________________________________________________________________________________________________\n",
            "flatten_5 (Flatten)             (None, 800)          0           max_pooling1d_5[0][0]            \n",
            "__________________________________________________________________________________________________\n",
            "flatten_6 (Flatten)             (None, 730)          0           max_pooling1d_6[0][0]            \n",
            "__________________________________________________________________________________________________\n",
            "concatenate_2 (Concatenate)     (None, 2380)         0           flatten_4[0][0]                  \n",
            "                                                                 flatten_5[0][0]                  \n",
            "                                                                 flatten_6[0][0]                  \n",
            "__________________________________________________________________________________________________\n",
            "dropout_2 (Dropout)             (None, 2380)         0           concatenate_2[0][0]              \n",
            "__________________________________________________________________________________________________\n",
            "dense_2 (Dense)                 (None, 1)            2381        dropout_2[0][0]                  \n",
            "==================================================================================================\n",
            "Total params: 9,152,411\n",
            "Trainable params: 9,152,411\n",
            "Non-trainable params: 0\n",
            "__________________________________________________________________________________________________\n",
            "None\n",
            "Train on 20000 samples, validate on 5000 samples\n",
            "Epoch 1/5\n",
            "20000/20000 [==============================] - 14s 704us/step - loss: 0.7182 - acc: 0.5067 - val_loss: 0.6935 - val_acc: 0.5244\n",
            "Epoch 2/5\n",
            "20000/20000 [==============================] - 14s 676us/step - loss: 0.6686 - acc: 0.5797 - val_loss: 0.6744 - val_acc: 0.5940\n",
            "Epoch 3/5\n",
            "20000/20000 [==============================] - 14s 678us/step - loss: 0.5957 - acc: 0.6811 - val_loss: 0.5382 - val_acc: 0.7450\n",
            "Epoch 4/5\n",
            "20000/20000 [==============================] - 14s 676us/step - loss: 0.4179 - acc: 0.8084 - val_loss: 0.3828 - val_acc: 0.8276\n",
            "Epoch 5/5\n",
            "20000/20000 [==============================] - 14s 676us/step - loss: 0.2859 - acc: 0.8788 - val_loss: 0.3491 - val_acc: 0.8488\n",
            "Accuracy score: 0.84224\n"
          ],
          "name": "stdout"
        }
      ]
    },
    {
      "metadata": {
        "id": "1t-p_xWhdvOy",
        "colab_type": "code",
        "colab": {}
      },
      "cell_type": "code",
      "source": [
        "imdb_intermediate_layer_model = Model(inputs=imdb_model.input,\n",
        "                                 outputs=imdb_model.layers[-3].output)"
      ],
      "execution_count": 0,
      "outputs": []
    },
    {
      "metadata": {
        "id": "cwurJ5QxfBUN",
        "colab_type": "code",
        "colab": {}
      },
      "cell_type": "code",
      "source": [
        "imdb_intermediate_output = imdb_intermediate_layer_model.predict([x_test, x_test, x_test])"
      ],
      "execution_count": 0,
      "outputs": []
    },
    {
      "metadata": {
        "id": "AOPJSUVAfNkR",
        "colab_type": "code",
        "colab": {}
      },
      "cell_type": "code",
      "source": [
        "imdb_pca = PCA(2)\n",
        "imdb_interm = pca.fit_transform(imdb_intermediate_output)"
      ],
      "execution_count": 0,
      "outputs": []
    },
    {
      "metadata": {
        "id": "S5juleEnfW8y",
        "colab_type": "code",
        "colab": {
          "base_uri": "https://localhost:8080/",
          "height": 297
        },
        "outputId": "e51f7e41-a55a-4b52-f8b0-3a5875427169"
      },
      "cell_type": "code",
      "source": [
        "nothelpful = plt.scatter(imdb_interm[y_test == 0, 0], imdb_interm[y_test == 0, 1], c='b')\n",
        "helpful = plt.scatter(imdb_interm[y_test == 1, 0], imdb_interm[y_test == 1, 1], c='firebrick')\n",
        "plt.legend([nothelpful, helpful], ['Negative', 'Positive'])\n",
        "plt.title('Reduced Dimensionality of Convolved Features, Colored by Label')"
      ],
      "execution_count": 58,
      "outputs": [
        {
          "output_type": "execute_result",
          "data": {
            "text/plain": [
              "Text(0.5,1,'Reduced Dimensionality of Convolved Features, Colored by Label')"
            ]
          },
          "metadata": {
            "tags": []
          },
          "execution_count": 58
        },
        {
          "output_type": "display_data",
          "data": {
            "image/png": "[encoded data removed]",
            "text/plain": [
              "<matplotlib.figure.Figure at 0x7ff5fd76b198>"
            ]
          },
          "metadata": {
            "tags": []
          }
        }
      ]
    },
    {
      "metadata": {
        "id": "AMOhobyrfn82",
        "colab_type": "code",
        "colab": {}
      },
      "cell_type": "code",
      "source": [
        "from sklearn.manifold import TSNE"
      ],
      "execution_count": 0,
      "outputs": []
    },
    {
      "metadata": {
        "id": "IlDCmFB_fnzn",
        "colab_type": "code",
        "colab": {}
      },
      "cell_type": "code",
      "source": [
        "imdb_tsne = TSNE()\n",
        "imdb_interm_tsne = imdb_tsne.fit_transform(imdb_intermediate_output)"
      ],
      "execution_count": 0,
      "outputs": []
    },
    {
      "metadata": {
        "id": "sPlJqDd5f1ZP",
        "colab_type": "code",
        "colab": {}
      },
      "cell_type": "code",
      "source": [
        ""
      ],
      "execution_count": 0,
      "outputs": []
    }
  ]
}